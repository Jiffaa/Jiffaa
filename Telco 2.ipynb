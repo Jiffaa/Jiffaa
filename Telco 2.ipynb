{
 "cells": [
  {
   "cell_type": "code",
   "execution_count": 2,
   "id": "da4f11aa",
   "metadata": {},
   "outputs": [],
   "source": [
    "# For data processing\n",
    "import pandas as pd\n",
    "import numpy as np\n",
    "\n",
    "# For visualization\n",
    "import matplotlib.pyplot as plt\n",
    "import seaborn as sns\n",
    "import matplotlib.patches as mpatches\n",
    "\n",
    "# For model building\n",
    "from sklearn.linear_model import LogisticRegression\n",
    "from sklearn.neighbors import KNeighborsClassifier\n",
    "from sklearn.svm import SVC\n",
    "from sklearn.tree import DecisionTreeClassifier\n",
    "from sklearn.ensemble import RandomForestClassifier  # For ensemble learning\n",
    "from sklearn.model_selection import GridSearchCV  # For ensemble learning\n",
    "\n",
    "# For evaluating model performance\n",
    "from sklearn.metrics import accuracy_score, confusion_matrix\n",
    "\n",
    "# For data preparation for ML models\n",
    "from sklearn.preprocessing import OneHotEncoder\n",
    "from sklearn.preprocessing import MinMaxScaler\n",
    "from sklearn.model_selection import train_test_split\n",
    "\n",
    "import warnings\n",
    "warnings.filterwarnings(\"ignore\")"
   ]
  },
  {
   "cell_type": "code",
   "execution_count": 15,
   "id": "cfbcd787",
   "metadata": {},
   "outputs": [
    {
     "data": {
      "text/plain": [
       "(7043, 21)"
      ]
     },
     "execution_count": 15,
     "metadata": {},
     "output_type": "execute_result"
    }
   ],
   "source": [
    "#Dataset\n",
    "df = pd.read_csv(\"TelcoCustomerChurn.csv\")\n",
    "df.shape\n",
    "(7043, 21)"
   ]
  },
  {
   "cell_type": "code",
   "execution_count": 172,
   "id": "6178c800",
   "metadata": {},
   "outputs": [
    {
     "data": {
      "text/html": [
       "<div>\n",
       "<style scoped>\n",
       "    .dataframe tbody tr th:only-of-type {\n",
       "        vertical-align: middle;\n",
       "    }\n",
       "\n",
       "    .dataframe tbody tr th {\n",
       "        vertical-align: top;\n",
       "    }\n",
       "\n",
       "    .dataframe thead th {\n",
       "        text-align: right;\n",
       "    }\n",
       "</style>\n",
       "<table border=\"1\" class=\"dataframe\">\n",
       "  <thead>\n",
       "    <tr style=\"text-align: right;\">\n",
       "      <th></th>\n",
       "      <th>SeniorCitizen</th>\n",
       "      <th>Partner</th>\n",
       "      <th>Dependents</th>\n",
       "      <th>tenure</th>\n",
       "      <th>MultipleLines</th>\n",
       "      <th>InternetService</th>\n",
       "      <th>OnlineSecurity</th>\n",
       "      <th>OnlineBackup</th>\n",
       "      <th>DeviceProtection</th>\n",
       "      <th>TechSupport</th>\n",
       "      <th>StreamingTV</th>\n",
       "      <th>StreamingMovies</th>\n",
       "      <th>PaperlessBilling</th>\n",
       "      <th>PaymentMethod</th>\n",
       "      <th>MonthlyCharges</th>\n",
       "      <th>Churn</th>\n",
       "    </tr>\n",
       "  </thead>\n",
       "  <tbody>\n",
       "    <tr>\n",
       "      <th>0</th>\n",
       "      <td>0</td>\n",
       "      <td>Yes</td>\n",
       "      <td>No</td>\n",
       "      <td>1</td>\n",
       "      <td>No phone service</td>\n",
       "      <td>DSL</td>\n",
       "      <td>No</td>\n",
       "      <td>Yes</td>\n",
       "      <td>No</td>\n",
       "      <td>No</td>\n",
       "      <td>No</td>\n",
       "      <td>No</td>\n",
       "      <td>Yes</td>\n",
       "      <td>Electronic check</td>\n",
       "      <td>29.85</td>\n",
       "      <td>0</td>\n",
       "    </tr>\n",
       "    <tr>\n",
       "      <th>1</th>\n",
       "      <td>0</td>\n",
       "      <td>No</td>\n",
       "      <td>No</td>\n",
       "      <td>34</td>\n",
       "      <td>No</td>\n",
       "      <td>DSL</td>\n",
       "      <td>Yes</td>\n",
       "      <td>No</td>\n",
       "      <td>Yes</td>\n",
       "      <td>No</td>\n",
       "      <td>No</td>\n",
       "      <td>No</td>\n",
       "      <td>No</td>\n",
       "      <td>Mailed check</td>\n",
       "      <td>56.95</td>\n",
       "      <td>0</td>\n",
       "    </tr>\n",
       "    <tr>\n",
       "      <th>2</th>\n",
       "      <td>0</td>\n",
       "      <td>No</td>\n",
       "      <td>No</td>\n",
       "      <td>2</td>\n",
       "      <td>No</td>\n",
       "      <td>DSL</td>\n",
       "      <td>Yes</td>\n",
       "      <td>Yes</td>\n",
       "      <td>No</td>\n",
       "      <td>No</td>\n",
       "      <td>No</td>\n",
       "      <td>No</td>\n",
       "      <td>Yes</td>\n",
       "      <td>Mailed check</td>\n",
       "      <td>53.85</td>\n",
       "      <td>1</td>\n",
       "    </tr>\n",
       "    <tr>\n",
       "      <th>3</th>\n",
       "      <td>0</td>\n",
       "      <td>No</td>\n",
       "      <td>No</td>\n",
       "      <td>45</td>\n",
       "      <td>No phone service</td>\n",
       "      <td>DSL</td>\n",
       "      <td>Yes</td>\n",
       "      <td>No</td>\n",
       "      <td>Yes</td>\n",
       "      <td>Yes</td>\n",
       "      <td>No</td>\n",
       "      <td>No</td>\n",
       "      <td>No</td>\n",
       "      <td>Bank transfer (automatic)</td>\n",
       "      <td>42.30</td>\n",
       "      <td>0</td>\n",
       "    </tr>\n",
       "    <tr>\n",
       "      <th>4</th>\n",
       "      <td>0</td>\n",
       "      <td>No</td>\n",
       "      <td>No</td>\n",
       "      <td>2</td>\n",
       "      <td>No</td>\n",
       "      <td>Fiber optic</td>\n",
       "      <td>No</td>\n",
       "      <td>No</td>\n",
       "      <td>No</td>\n",
       "      <td>No</td>\n",
       "      <td>No</td>\n",
       "      <td>No</td>\n",
       "      <td>Yes</td>\n",
       "      <td>Electronic check</td>\n",
       "      <td>70.70</td>\n",
       "      <td>1</td>\n",
       "    </tr>\n",
       "  </tbody>\n",
       "</table>\n",
       "</div>"
      ],
      "text/plain": [
       "   SeniorCitizen Partner Dependents  tenure     MultipleLines InternetService  \\\n",
       "0              0     Yes         No       1  No phone service             DSL   \n",
       "1              0      No         No      34                No             DSL   \n",
       "2              0      No         No       2                No             DSL   \n",
       "3              0      No         No      45  No phone service             DSL   \n",
       "4              0      No         No       2                No     Fiber optic   \n",
       "\n",
       "  OnlineSecurity OnlineBackup DeviceProtection TechSupport StreamingTV  \\\n",
       "0             No          Yes               No          No          No   \n",
       "1            Yes           No              Yes          No          No   \n",
       "2            Yes          Yes               No          No          No   \n",
       "3            Yes           No              Yes         Yes          No   \n",
       "4             No           No               No          No          No   \n",
       "\n",
       "  StreamingMovies PaperlessBilling              PaymentMethod  MonthlyCharges  \\\n",
       "0              No              Yes           Electronic check           29.85   \n",
       "1              No               No               Mailed check           56.95   \n",
       "2              No              Yes               Mailed check           53.85   \n",
       "3              No               No  Bank transfer (automatic)           42.30   \n",
       "4              No              Yes           Electronic check           70.70   \n",
       "\n",
       "   Churn  \n",
       "0      0  \n",
       "1      0  \n",
       "2      1  \n",
       "3      0  \n",
       "4      1  "
      ]
     },
     "execution_count": 172,
     "metadata": {},
     "output_type": "execute_result"
    }
   ],
   "source": [
    "mapp =df.copy()\n",
    "mapp.head()"
   ]
  },
  {
   "cell_type": "code",
   "execution_count": 4,
   "id": "7cfad86f",
   "metadata": {},
   "outputs": [
    {
     "data": {
      "text/plain": [
       "0"
      ]
     },
     "execution_count": 4,
     "metadata": {},
     "output_type": "execute_result"
    }
   ],
   "source": [
    "#no null values found\n",
    "df.isna().sum().sum()"
   ]
  },
  {
   "cell_type": "code",
   "execution_count": 5,
   "id": "78521691",
   "metadata": {},
   "outputs": [
    {
     "data": {
      "text/plain": [
       "No     5174\n",
       "Yes    1869\n",
       "Name: Churn, dtype: int64"
      ]
     },
     "execution_count": 5,
     "metadata": {},
     "output_type": "execute_result"
    }
   ],
   "source": [
    "#Target variable balance checck \n",
    "df.Churn.value_counts()"
   ]
  },
  {
   "cell_type": "code",
   "execution_count": 11,
   "id": "781e683a",
   "metadata": {},
   "outputs": [
    {
     "data": {
      "image/png": "[encoded data removed]",
      "text/plain": [
       "<Figure size 576x576 with 1 Axes>"
      ]
     },
     "metadata": {},
     "output_type": "display_data"
    }
   ],
   "source": [
    "#Target value percentage\n",
    "plt.figure(figsize=(8, 8))\n",
    "labels=[\"Not Churn\", \"Churn\"]\n",
    "colors = [\"#8395eb\", \"#fa9696\"]\n",
    "df[\"Churn\"].value_counts().plot(kind = \"pie\", explode=[0, 0.10], \n",
    "                                  startangle = 45, shadow=True, labels=labels, colors=colors,\n",
    "                                  autopct='%1.1f%%')\n",
    "\n",
    "plt.title(\"Distribution of Churn and Non-churn customers %\")\n",
    "plt.ylabel(\"\")\n",
    "plt.tight_layout()\n",
    "plt.show()"
   ]
  },
  {
   "cell_type": "code",
   "execution_count": 10,
   "id": "c1f8fef3",
   "metadata": {},
   "outputs": [
    {
     "name": "stdout",
     "output_type": "stream",
     "text": [
      "<class 'pandas.core.frame.DataFrame'>\n",
      "RangeIndex: 7043 entries, 0 to 7042\n",
      "Data columns (total 21 columns):\n",
      " #   Column            Non-Null Count  Dtype  \n",
      "---  ------            --------------  -----  \n",
      " 0   customerID        7043 non-null   object \n",
      " 1   gender            7043 non-null   object \n",
      " 2   SeniorCitizen     7043 non-null   int64  \n",
      " 3   Partner           7043 non-null   object \n",
      " 4   Dependents        7043 non-null   object \n",
      " 5   tenure            7043 non-null   int64  \n",
      " 6   PhoneService      7043 non-null   object \n",
      " 7   MultipleLines     7043 non-null   object \n",
      " 8   InternetService   7043 non-null   object \n",
      " 9   OnlineSecurity    7043 non-null   object \n",
      " 10  OnlineBackup      7043 non-null   object \n",
      " 11  DeviceProtection  7043 non-null   object \n",
      " 12  TechSupport       7043 non-null   object \n",
      " 13  StreamingTV       7043 non-null   object \n",
      " 14  StreamingMovies   7043 non-null   object \n",
      " 15  Contract          7043 non-null   object \n",
      " 16  PaperlessBilling  7043 non-null   object \n",
      " 17  PaymentMethod     7043 non-null   object \n",
      " 18  MonthlyCharges    7043 non-null   float64\n",
      " 19  TotalCharges      7043 non-null   object \n",
      " 20  Churn             7043 non-null   object \n",
      "dtypes: float64(1), int64(2), object(18)\n",
      "memory usage: 1.1+ MB\n"
     ]
    }
   ],
   "source": [
    "df.info()"
   ]
  },
  {
   "cell_type": "code",
   "execution_count": 6,
   "id": "c08c5264",
   "metadata": {},
   "outputs": [],
   "source": [
    "#Check data types \n",
    "columns = df.columns\n",
    "objects_cols = []\n",
    "for col in columns:\n",
    "    if df[col].value_counts().shape[0] != 2:\n",
    "        objects_cols.append(col)"
   ]
  },
  {
   "cell_type": "code",
   "execution_count": 7,
   "id": "28c2120c",
   "metadata": {},
   "outputs": [
    {
     "data": {
      "text/plain": [
       "['customerID',\n",
       " 'tenure',\n",
       " 'MultipleLines',\n",
       " 'InternetService',\n",
       " 'OnlineSecurity',\n",
       " 'OnlineBackup',\n",
       " 'DeviceProtection',\n",
       " 'TechSupport',\n",
       " 'StreamingTV',\n",
       " 'StreamingMovies',\n",
       " 'Contract',\n",
       " 'PaymentMethod',\n",
       " 'MonthlyCharges',\n",
       " 'TotalCharges']"
      ]
     },
     "execution_count": 7,
     "metadata": {},
     "output_type": "execute_result"
    }
   ],
   "source": [
    "objects_cols"
   ]
  },
  {
   "cell_type": "code",
   "execution_count": 8,
   "id": "1b8c7506",
   "metadata": {},
   "outputs": [
    {
     "data": {
      "text/plain": [
       "['gender',\n",
       " 'SeniorCitizen',\n",
       " 'Partner',\n",
       " 'Dependents',\n",
       " 'PhoneService',\n",
       " 'PaperlessBilling',\n",
       " 'Churn']"
      ]
     },
     "execution_count": 8,
     "metadata": {},
     "output_type": "execute_result"
    }
   ],
   "source": [
    "#Check data types \n",
    "columns = df.columns\n",
    "binaryclasify_cols = []\n",
    "for col in columns:\n",
    "    if df[col].value_counts().shape[0] == 2:\n",
    "        binaryclasify_cols.append(col)\n",
    "binaryclasify_cols"
   ]
  },
  {
   "cell_type": "code",
   "execution_count": 9,
   "id": "ad28c8da",
   "metadata": {},
   "outputs": [
    {
     "name": "stdout",
     "output_type": "stream",
     "text": [
      "Column: customerID - Unique Values: ['7590-VHVEG' '5575-GNVDE' '3668-QPYBK' ... '4801-JZAZL' '8361-LTMKD'\n",
      " '3186-AJIEK']\n",
      "Column: gender - Unique Values: ['Female' 'Male']\n",
      "Column: SeniorCitizen - Unique Values: [0 1]\n",
      "Column: Partner - Unique Values: ['Yes' 'No']\n",
      "Column: Dependents - Unique Values: ['No' 'Yes']\n",
      "Column: tenure - Unique Values: [ 1 34  2 45  8 22 10 28 62 13 16 58 49 25 69 52 71 21 12 30 47 72 17 27\n",
      "  5 46 11 70 63 43 15 60 18 66  9  3 31 50 64 56  7 42 35 48 29 65 38 68\n",
      " 32 55 37 36 41  6  4 33 67 23 57 61 14 20 53 40 59 24 44 19 54 51 26  0\n",
      " 39]\n",
      "Column: PhoneService - Unique Values: ['No' 'Yes']\n",
      "Column: MultipleLines - Unique Values: ['No phone service' 'No' 'Yes']\n",
      "Column: InternetService - Unique Values: ['DSL' 'Fiber optic' 'No']\n",
      "Column: OnlineSecurity - Unique Values: ['No' 'Yes' 'No internet service']\n",
      "Column: OnlineBackup - Unique Values: ['Yes' 'No' 'No internet service']\n",
      "Column: DeviceProtection - Unique Values: ['No' 'Yes' 'No internet service']\n",
      "Column: TechSupport - Unique Values: ['No' 'Yes' 'No internet service']\n",
      "Column: StreamingTV - Unique Values: ['No' 'Yes' 'No internet service']\n",
      "Column: StreamingMovies - Unique Values: ['No' 'Yes' 'No internet service']\n",
      "Column: Contract - Unique Values: ['Month-to-month' 'One year' 'Two year']\n",
      "Column: PaperlessBilling - Unique Values: ['Yes' 'No']\n",
      "Column: PaymentMethod - Unique Values: ['Electronic check' 'Mailed check' 'Bank transfer (automatic)'\n",
      " 'Credit card (automatic)']\n",
      "Column: MonthlyCharges - Unique Values: [29.85 56.95 53.85 ... 63.1  44.2  78.7 ]\n",
      "Column: TotalCharges - Unique Values: ['29.85' '1889.5' '108.15' ... '346.45' '306.6' '6844.5']\n",
      "Column: Churn - Unique Values: ['No' 'Yes']\n"
     ]
    }
   ],
   "source": [
    "#taking variables uniquesness\n",
    "for column in df.columns:\n",
    "    print('Column: {} - Unique Values: {}'.format(column, df[column].unique()))"
   ]
  },
  {
   "cell_type": "code",
   "execution_count": 12,
   "id": "edc98180",
   "metadata": {},
   "outputs": [
    {
     "data": {
      "text/plain": [
       "<AxesSubplot:xlabel='PaperlessBilling', ylabel='count'>"
      ]
     },
     "execution_count": 12,
     "metadata": {},
     "output_type": "execute_result"
    },
    {
     "data": {
      "image/png": "[encoded data removed]",
      "text/plain": [
       "<Figure size 864x504 with 6 Axes>"
      ]
     },
     "metadata": {
      "needs_background": "light"
     },
     "output_type": "display_data"
    }
   ],
   "source": [
    "#binary variable count against target variable\n",
    "fig, axes = plt.subplots(2, 3, figsize=(12, 7), sharey=True)\n",
    "sns.countplot(\"gender\", data=df, ax=axes[0,0])\n",
    "sns.countplot(\"SeniorCitizen\", data=df, ax=axes[0,1])\n",
    "sns.countplot(\"Partner\", data=df, ax=axes[0,2])\n",
    "sns.countplot(\"Dependents\", data=df, ax=axes[1,0])\n",
    "sns.countplot(\"PhoneService\", data=df, ax=axes[1,1])\n",
    "sns.countplot(\"PaperlessBilling\", data=df, ax=axes[1,2])"
   ]
  },
  {
   "cell_type": "code",
   "execution_count": 25,
   "id": "f5335976",
   "metadata": {},
   "outputs": [],
   "source": [
    "#Converiosn to numerical \n",
    "churn_numeric = {'Yes':1, 'No':0}\n",
    "df.Churn.replace(churn_numeric, inplace=True)"
   ]
  },
  {
   "cell_type": "code",
   "execution_count": 26,
   "id": "843cb31d",
   "metadata": {},
   "outputs": [
    {
     "data": {
      "text/html": [
       "<div>\n",
       "<style scoped>\n",
       "    .dataframe tbody tr th:only-of-type {\n",
       "        vertical-align: middle;\n",
       "    }\n",
       "\n",
       "    .dataframe tbody tr th {\n",
       "        vertical-align: top;\n",
       "    }\n",
       "\n",
       "    .dataframe thead th {\n",
       "        text-align: right;\n",
       "    }\n",
       "</style>\n",
       "<table border=\"1\" class=\"dataframe\">\n",
       "  <thead>\n",
       "    <tr style=\"text-align: right;\">\n",
       "      <th></th>\n",
       "      <th>Churn</th>\n",
       "    </tr>\n",
       "    <tr>\n",
       "      <th>gender</th>\n",
       "      <th></th>\n",
       "    </tr>\n",
       "  </thead>\n",
       "  <tbody>\n",
       "    <tr>\n",
       "      <th>Female</th>\n",
       "      <td>0.269209</td>\n",
       "    </tr>\n",
       "    <tr>\n",
       "      <th>Male</th>\n",
       "      <td>0.261603</td>\n",
       "    </tr>\n",
       "  </tbody>\n",
       "</table>\n",
       "</div>"
      ],
      "text/plain": [
       "           Churn\n",
       "gender          \n",
       "Female  0.269209\n",
       "Male    0.261603"
      ]
     },
     "execution_count": 26,
     "metadata": {},
     "output_type": "execute_result"
    }
   ],
   "source": [
    "#Binary variable Percentage against target variable\n",
    "df[['gender','Churn']].groupby(['gender']).mean()"
   ]
  },
  {
   "cell_type": "code",
   "execution_count": null,
   "id": "3fcb6a9b",
   "metadata": {},
   "outputs": [],
   "source": [
    "df[['SeniorCitizen','Churn']].groupby(['SeniorCitizen']).mean()"
   ]
  },
  {
   "cell_type": "code",
   "execution_count": null,
   "id": "d4a2b86d",
   "metadata": {},
   "outputs": [],
   "source": [
    "df[['Partner','Churn']].groupby(['Partner']).mean()"
   ]
  },
  {
   "cell_type": "code",
   "execution_count": null,
   "id": "343349a5",
   "metadata": {},
   "outputs": [],
   "source": [
    "df[['PhoneService','Churn']].groupby(['PhoneService']).mean()"
   ]
  },
  {
   "cell_type": "code",
   "execution_count": 12,
   "id": "54cf63d9",
   "metadata": {},
   "outputs": [
    {
     "data": {
      "text/html": [
       "<div>\n",
       "<style scoped>\n",
       "    .dataframe tbody tr th:only-of-type {\n",
       "        vertical-align: middle;\n",
       "    }\n",
       "\n",
       "    .dataframe tbody tr th {\n",
       "        vertical-align: top;\n",
       "    }\n",
       "\n",
       "    .dataframe thead th {\n",
       "        text-align: right;\n",
       "    }\n",
       "</style>\n",
       "<table border=\"1\" class=\"dataframe\">\n",
       "  <thead>\n",
       "    <tr style=\"text-align: right;\">\n",
       "      <th></th>\n",
       "      <th>Churn</th>\n",
       "    </tr>\n",
       "    <tr>\n",
       "      <th>Dependents</th>\n",
       "      <th></th>\n",
       "    </tr>\n",
       "  </thead>\n",
       "  <tbody>\n",
       "    <tr>\n",
       "      <th>No</th>\n",
       "      <td>0.312791</td>\n",
       "    </tr>\n",
       "    <tr>\n",
       "      <th>Yes</th>\n",
       "      <td>0.154502</td>\n",
       "    </tr>\n",
       "  </tbody>\n",
       "</table>\n",
       "</div>"
      ],
      "text/plain": [
       "               Churn\n",
       "Dependents          \n",
       "No          0.312791\n",
       "Yes         0.154502"
      ]
     },
     "execution_count": 12,
     "metadata": {},
     "output_type": "execute_result"
    }
   ],
   "source": [
    "df[['Dependents','Churn']].groupby(['Dependents']).mean()"
   ]
  },
  {
   "cell_type": "code",
   "execution_count": 30,
   "id": "9b85a038",
   "metadata": {},
   "outputs": [
    {
     "data": {
      "text/html": [
       "<div>\n",
       "<style scoped>\n",
       "    .dataframe tbody tr th:only-of-type {\n",
       "        vertical-align: middle;\n",
       "    }\n",
       "\n",
       "    .dataframe tbody tr th {\n",
       "        vertical-align: top;\n",
       "    }\n",
       "\n",
       "    .dataframe thead th {\n",
       "        text-align: right;\n",
       "    }\n",
       "</style>\n",
       "<table border=\"1\" class=\"dataframe\">\n",
       "  <thead>\n",
       "    <tr style=\"text-align: right;\">\n",
       "      <th>Dependents</th>\n",
       "      <th>No</th>\n",
       "      <th>Yes</th>\n",
       "    </tr>\n",
       "    <tr>\n",
       "      <th>gender</th>\n",
       "      <th></th>\n",
       "      <th></th>\n",
       "    </tr>\n",
       "  </thead>\n",
       "  <tbody>\n",
       "    <tr>\n",
       "      <th>Female</th>\n",
       "      <td>0.314634</td>\n",
       "      <td>0.160506</td>\n",
       "    </tr>\n",
       "    <tr>\n",
       "      <th>Male</th>\n",
       "      <td>0.310958</td>\n",
       "      <td>0.148799</td>\n",
       "    </tr>\n",
       "  </tbody>\n",
       "</table>\n",
       "</div>"
      ],
      "text/plain": [
       "Dependents        No       Yes\n",
       "gender                        \n",
       "Female      0.314634  0.160506\n",
       "Male        0.310958  0.148799"
      ]
     },
     "execution_count": 30,
     "metadata": {},
     "output_type": "execute_result"
    }
   ],
   "source": [
    "table = pd.pivot_table(df, values='Churn', index=['gender'],\n",
    "                    columns=['Dependents'], aggfunc=np.mean)\n",
    "table"
   ]
  },
  {
   "cell_type": "code",
   "execution_count": 31,
   "id": "55e43b7d",
   "metadata": {},
   "outputs": [
    {
     "data": {
      "text/html": [
       "<div>\n",
       "<style scoped>\n",
       "    .dataframe tbody tr th:only-of-type {\n",
       "        vertical-align: middle;\n",
       "    }\n",
       "\n",
       "    .dataframe tbody tr th {\n",
       "        vertical-align: top;\n",
       "    }\n",
       "\n",
       "    .dataframe thead th {\n",
       "        text-align: right;\n",
       "    }\n",
       "</style>\n",
       "<table border=\"1\" class=\"dataframe\">\n",
       "  <thead>\n",
       "    <tr style=\"text-align: right;\">\n",
       "      <th>Partner</th>\n",
       "      <th>No</th>\n",
       "      <th>Yes</th>\n",
       "    </tr>\n",
       "    <tr>\n",
       "      <th>gender</th>\n",
       "      <th></th>\n",
       "      <th></th>\n",
       "    </tr>\n",
       "  </thead>\n",
       "  <tbody>\n",
       "    <tr>\n",
       "      <th>Female</th>\n",
       "      <td>0.344444</td>\n",
       "      <td>0.188981</td>\n",
       "    </tr>\n",
       "    <tr>\n",
       "      <th>Male</th>\n",
       "      <td>0.315046</td>\n",
       "      <td>0.204201</td>\n",
       "    </tr>\n",
       "  </tbody>\n",
       "</table>\n",
       "</div>"
      ],
      "text/plain": [
       "Partner        No       Yes\n",
       "gender                     \n",
       "Female   0.344444  0.188981\n",
       "Male     0.315046  0.204201"
      ]
     },
     "execution_count": 31,
     "metadata": {},
     "output_type": "execute_result"
    }
   ],
   "source": [
    "table = pd.pivot_table(df, values='Churn', index=['gender'],\n",
    "                    columns=['Partner'], aggfunc=np.mean)\n",
    "table"
   ]
  },
  {
   "cell_type": "code",
   "execution_count": 32,
   "id": "d1663468",
   "metadata": {},
   "outputs": [
    {
     "data": {
      "text/html": [
       "<div>\n",
       "<style scoped>\n",
       "    .dataframe tbody tr th:only-of-type {\n",
       "        vertical-align: middle;\n",
       "    }\n",
       "\n",
       "    .dataframe tbody tr th {\n",
       "        vertical-align: top;\n",
       "    }\n",
       "\n",
       "    .dataframe thead th {\n",
       "        text-align: right;\n",
       "    }\n",
       "</style>\n",
       "<table border=\"1\" class=\"dataframe\">\n",
       "  <thead>\n",
       "    <tr style=\"text-align: right;\">\n",
       "      <th>SeniorCitizen</th>\n",
       "      <th>0</th>\n",
       "      <th>1</th>\n",
       "    </tr>\n",
       "    <tr>\n",
       "      <th>gender</th>\n",
       "      <th></th>\n",
       "      <th></th>\n",
       "    </tr>\n",
       "  </thead>\n",
       "  <tbody>\n",
       "    <tr>\n",
       "      <th>Female</th>\n",
       "      <td>0.239384</td>\n",
       "      <td>0.422535</td>\n",
       "    </tr>\n",
       "    <tr>\n",
       "      <th>Male</th>\n",
       "      <td>0.232808</td>\n",
       "      <td>0.411150</td>\n",
       "    </tr>\n",
       "  </tbody>\n",
       "</table>\n",
       "</div>"
      ],
      "text/plain": [
       "SeniorCitizen         0         1\n",
       "gender                           \n",
       "Female         0.239384  0.422535\n",
       "Male           0.232808  0.411150"
      ]
     },
     "execution_count": 32,
     "metadata": {},
     "output_type": "execute_result"
    }
   ],
   "source": [
    "table = pd.pivot_table(df, values='Churn', index=['gender'],\n",
    "                    columns=['SeniorCitizen'], aggfunc=np.mean)\n",
    "table"
   ]
  },
  {
   "cell_type": "code",
   "execution_count": 36,
   "id": "a6c7d1b8",
   "metadata": {},
   "outputs": [
    {
     "data": {
      "image/png": "[encoded data removed]",
      "text/plain": [
       "<Figure size 576x360 with 1 Axes>"
      ]
     },
     "metadata": {},
     "output_type": "display_data"
    }
   ],
   "source": [
    "#Other variable Percentage \n",
    "sns.set(style=\"whitegrid\")\n",
    "plt.figure(figsize=(8,5))\n",
    "total = float(len(df))\n",
    "ax = sns.countplot(x=\"Contract\", hue=\"Contract\", data=df)\n",
    "plt.title('Contract against churn', fontsize=20)\n",
    "for p in ax.patches:\n",
    "    percentage = '{:.1f}%'.format(100 * p.get_height()/total)\n",
    "    x = p.get_x() + p.get_width()\n",
    "    y = p.get_height()\n",
    "    ax.annotate(percentage, (x, y),ha='center')\n",
    "plt.show()"
   ]
  },
  {
   "cell_type": "code",
   "execution_count": 38,
   "id": "a12c211d",
   "metadata": {},
   "outputs": [
    {
     "data": {
      "image/png": "[encoded data removed]",
      "text/plain": [
       "<Figure size 576x360 with 1 Axes>"
      ]
     },
     "metadata": {},
     "output_type": "display_data"
    }
   ],
   "source": [
    "#other variable percentages against target variable\n",
    "sns.set(style=\"whitegrid\")\n",
    "plt.figure(figsize=(8,5))\n",
    "total = float(len(df))\n",
    "ax = sns.countplot(x=\"InternetService\", hue=\"Churn\", data=df)\n",
    "plt.title('InternetService against churn', fontsize=20)\n",
    "for p in ax.patches:\n",
    "    percentage = '{:.1f}%'.format(100 * p.get_height()/total)\n",
    "    x = p.get_x() + p.get_width()\n",
    "    y = p.get_height()\n",
    "    ax.annotate(percentage, (x, y),ha='center')\n",
    "plt.show()"
   ]
  },
  {
   "cell_type": "code",
   "execution_count": 21,
   "id": "571ca647",
   "metadata": {},
   "outputs": [
    {
     "data": {
      "text/html": [
       "<div>\n",
       "<style scoped>\n",
       "    .dataframe tbody tr th:only-of-type {\n",
       "        vertical-align: middle;\n",
       "    }\n",
       "\n",
       "    .dataframe tbody tr th {\n",
       "        vertical-align: top;\n",
       "    }\n",
       "\n",
       "    .dataframe thead th {\n",
       "        text-align: right;\n",
       "    }\n",
       "</style>\n",
       "<table border=\"1\" class=\"dataframe\">\n",
       "  <thead>\n",
       "    <tr style=\"text-align: right;\">\n",
       "      <th></th>\n",
       "      <th>MonthlyCharges</th>\n",
       "    </tr>\n",
       "    <tr>\n",
       "      <th>InternetService</th>\n",
       "      <th></th>\n",
       "    </tr>\n",
       "  </thead>\n",
       "  <tbody>\n",
       "    <tr>\n",
       "      <th>DSL</th>\n",
       "      <td>58.102169</td>\n",
       "    </tr>\n",
       "    <tr>\n",
       "      <th>Fiber optic</th>\n",
       "      <td>91.500129</td>\n",
       "    </tr>\n",
       "    <tr>\n",
       "      <th>No</th>\n",
       "      <td>21.079194</td>\n",
       "    </tr>\n",
       "  </tbody>\n",
       "</table>\n",
       "</div>"
      ],
      "text/plain": [
       "                 MonthlyCharges\n",
       "InternetService                \n",
       "DSL                   58.102169\n",
       "Fiber optic           91.500129\n",
       "No                    21.079194"
      ]
     },
     "execution_count": 21,
     "metadata": {},
     "output_type": "execute_result"
    }
   ],
   "source": [
    "df[['InternetService','MonthlyCharges']].groupby(['InternetService']).mean()"
   ]
  },
  {
   "cell_type": "code",
   "execution_count": 44,
   "id": "73d20665",
   "metadata": {},
   "outputs": [
    {
     "data": {
      "image/png": "[encoded data removed]",
      "text/plain": [
       "<Figure size 576x360 with 1 Axes>"
      ]
     },
     "metadata": {},
     "output_type": "display_data"
    }
   ],
   "source": [
    "\n",
    "sns.set(style=\"whitegrid\")\n",
    "plt.figure(figsize=(8,5))\n",
    "total = float(len(df))\n",
    "ax = sns.countplot(x=\"InternetService\", hue=\"InternetService\", data=df)\n",
    "plt.title('InternetService against churn', fontsize=20)\n",
    "for p in ax.patches:\n",
    "    percentage = '{:.1f}%'.format(100 * p.get_height()/total)\n",
    "    x = p.get_x() + p.get_width()\n",
    "    y = p.get_height()\n",
    "    ax.annotate(percentage, (x, y),ha='center')\n",
    "plt.show()"
   ]
  },
  {
   "cell_type": "code",
   "execution_count": 49,
   "id": "2f0bc4a8",
   "metadata": {},
   "outputs": [
    {
     "data": {
      "image/png": "[encoded data removed]",
      "text/plain": [
       "<Figure size 864x504 with 6 Axes>"
      ]
     },
     "metadata": {},
     "output_type": "display_data"
    }
   ],
   "source": [
    "fig, axes = plt.subplots(2, 3, figsize=(12, 7), sharey=True)\n",
    "sns.countplot(\"StreamingTV\", data=df, ax=axes[0,0])\n",
    "sns.countplot(\"StreamingMovies\", data=df, ax=axes[0,1])\n",
    "sns.countplot(\"OnlineSecurity\", data=df, ax=axes[0,2])\n",
    "sns.countplot(\"OnlineBackup\", data=df, ax=axes[1,0])\n",
    "sns.countplot(\"DeviceProtection\", data=df, ax=axes[1,1])\n",
    "sns.countplot(\"TechSupport\", data=df, ax=axes[1,2])\n",
    "\n",
    "plt.show()"
   ]
  },
  {
   "cell_type": "code",
   "execution_count": 53,
   "id": "f0d79351",
   "metadata": {},
   "outputs": [
    {
     "data": {
      "image/png": "[encoded data removed]",
      "text/plain": [
       "<Figure size 576x360 with 1 Axes>"
      ]
     },
     "metadata": {},
     "output_type": "display_data"
    }
   ],
   "source": [
    "\n",
    "\n",
    "sns.set(style=\"whitegrid\")\n",
    "plt.figure(figsize=(8,5))\n",
    "total = float(len(df))\n",
    "ax = sns.countplot(x=\"MultipleLines\", hue=\"Churn\", data=df)\n",
    "plt.title('MultipleLines against churn', fontsize=20)\n",
    "for p in ax.patches:\n",
    "    percentage = '{:.1f}%'.format(100 * p.get_height()/total)\n",
    "    x = p.get_x() + p.get_width()\n",
    "    y = p.get_height()\n",
    "    ax.annotate(percentage, (x, y),ha='center')\n",
    "plt.show()\n",
    "\n"
   ]
  },
  {
   "cell_type": "code",
   "execution_count": 54,
   "id": "9a4d6e64",
   "metadata": {},
   "outputs": [
    {
     "data": {
      "image/png": "[encoded data removed]",
      "text/plain": [
       "<Figure size 576x360 with 1 Axes>"
      ]
     },
     "metadata": {},
     "output_type": "display_data"
    }
   ],
   "source": [
    "\n",
    "sns.set(style=\"whitegrid\")\n",
    "plt.figure(figsize=(8,5))\n",
    "total = float(len(df))\n",
    "ax = sns.countplot(x=\"PhoneService\", hue=\"Churn\", data=df)\n",
    "plt.title('PhoneService against churn', fontsize=20)\n",
    "for p in ax.patches:\n",
    "    percentage = '{:.1f}%'.format(100 * p.get_height()/total)\n",
    "    x = p.get_x() + p.get_width()\n",
    "    y = p.get_height()\n",
    "    ax.annotate(percentage, (x, y),ha='center')\n",
    "plt.show()"
   ]
  },
  {
   "cell_type": "code",
   "execution_count": 55,
   "id": "46c1ad66",
   "metadata": {},
   "outputs": [
    {
     "data": {
      "image/png": "[encoded data removed]",
      "text/plain": [
       "<Figure size 576x360 with 1 Axes>"
      ]
     },
     "metadata": {},
     "output_type": "display_data"
    }
   ],
   "source": [
    "sns.set(style=\"whitegrid\")\n",
    "plt.figure(figsize=(8,5))\n",
    "total = float(len(df))\n",
    "ax = sns.countplot(x=\"PaymentMethod\", hue=\"Churn\", data=df)\n",
    "plt.title('PaymentMethod against churn', fontsize=20)\n",
    "for p in ax.patches:\n",
    "    percentage = '{:.1f}%'.format(100 * p.get_height()/total)\n",
    "    x = p.get_x() + p.get_width()\n",
    "    y = p.get_height()\n",
    "    ax.annotate(percentage, (x, y),ha='center')\n",
    "plt.show()"
   ]
  },
  {
   "cell_type": "code",
   "execution_count": 70,
   "id": "f4baf74d",
   "metadata": {},
   "outputs": [
    {
     "data": {
      "image/png": "[encoded data removed]",
      "text/plain": [
       "<Figure size 432x288 with 1 Axes>"
      ]
     },
     "metadata": {},
     "output_type": "display_data"
    }
   ],
   "source": [
    "# deviation point of tenure and monthly chargers \n",
    "target_0 = df.loc[df['tenure'] == 0]\n",
    "target_1 = df.loc[df['tenure'] == 1]\n",
    "\n",
    "\n",
    "sns.distplot(target_0[['MonthlyCharges']], hist=False, rug=True)\n",
    "sns.distplot(target_1[['MonthlyCharges']], hist=False, rug=True)\n",
    "\n",
    "\n",
    "plt.show()"
   ]
  },
  {
   "cell_type": "code",
   "execution_count": 74,
   "id": "cbe4884d",
   "metadata": {},
   "outputs": [
    {
     "data": {
      "text/html": [
       "<div>\n",
       "<style scoped>\n",
       "    .dataframe tbody tr th:only-of-type {\n",
       "        vertical-align: middle;\n",
       "    }\n",
       "\n",
       "    .dataframe tbody tr th {\n",
       "        vertical-align: top;\n",
       "    }\n",
       "\n",
       "    .dataframe thead th {\n",
       "        text-align: right;\n",
       "    }\n",
       "</style>\n",
       "<table border=\"1\" class=\"dataframe\">\n",
       "  <thead>\n",
       "    <tr style=\"text-align: right;\">\n",
       "      <th></th>\n",
       "      <th>tenure</th>\n",
       "    </tr>\n",
       "    <tr>\n",
       "      <th>Contract</th>\n",
       "      <th></th>\n",
       "    </tr>\n",
       "  </thead>\n",
       "  <tbody>\n",
       "    <tr>\n",
       "      <th>Month-to-month</th>\n",
       "      <td>18.036645</td>\n",
       "    </tr>\n",
       "    <tr>\n",
       "      <th>One year</th>\n",
       "      <td>42.044807</td>\n",
       "    </tr>\n",
       "    <tr>\n",
       "      <th>Two year</th>\n",
       "      <td>56.735103</td>\n",
       "    </tr>\n",
       "  </tbody>\n",
       "</table>\n",
       "</div>"
      ],
      "text/plain": [
       "                   tenure\n",
       "Contract                 \n",
       "Month-to-month  18.036645\n",
       "One year        42.044807\n",
       "Two year        56.735103"
      ]
     },
     "execution_count": 74,
     "metadata": {},
     "output_type": "execute_result"
    }
   ],
   "source": [
    "# check which contrct type long lasting\n",
    "\n",
    "df[['Contract','tenure']].groupby(['Contract']).mean()\n"
   ]
  },
  {
   "cell_type": "markdown",
   "id": "8cf53fcc",
   "metadata": {},
   "source": [
    "## ------------Feature Engineering------------------"
   ]
  },
  {
   "cell_type": "code",
   "execution_count": 75,
   "id": "0a5e7f31",
   "metadata": {},
   "outputs": [],
   "source": [
    "df.drop(['customerID','gender','PhoneService','Contract','TotalCharges'], axis=1, inplace=True)"
   ]
  },
  {
   "cell_type": "code",
   "execution_count": 76,
   "id": "8cbf6aea",
   "metadata": {},
   "outputs": [
    {
     "data": {
      "text/html": [
       "<div>\n",
       "<style scoped>\n",
       "    .dataframe tbody tr th:only-of-type {\n",
       "        vertical-align: middle;\n",
       "    }\n",
       "\n",
       "    .dataframe tbody tr th {\n",
       "        vertical-align: top;\n",
       "    }\n",
       "\n",
       "    .dataframe thead th {\n",
       "        text-align: right;\n",
       "    }\n",
       "</style>\n",
       "<table border=\"1\" class=\"dataframe\">\n",
       "  <thead>\n",
       "    <tr style=\"text-align: right;\">\n",
       "      <th></th>\n",
       "      <th>SeniorCitizen</th>\n",
       "      <th>Partner</th>\n",
       "      <th>Dependents</th>\n",
       "      <th>tenure</th>\n",
       "      <th>MultipleLines</th>\n",
       "      <th>InternetService</th>\n",
       "      <th>OnlineSecurity</th>\n",
       "      <th>OnlineBackup</th>\n",
       "      <th>DeviceProtection</th>\n",
       "      <th>TechSupport</th>\n",
       "      <th>StreamingTV</th>\n",
       "      <th>StreamingMovies</th>\n",
       "      <th>PaperlessBilling</th>\n",
       "      <th>PaymentMethod</th>\n",
       "      <th>MonthlyCharges</th>\n",
       "      <th>Churn</th>\n",
       "    </tr>\n",
       "  </thead>\n",
       "  <tbody>\n",
       "    <tr>\n",
       "      <th>0</th>\n",
       "      <td>0</td>\n",
       "      <td>Yes</td>\n",
       "      <td>No</td>\n",
       "      <td>1</td>\n",
       "      <td>No phone service</td>\n",
       "      <td>DSL</td>\n",
       "      <td>No</td>\n",
       "      <td>Yes</td>\n",
       "      <td>No</td>\n",
       "      <td>No</td>\n",
       "      <td>No</td>\n",
       "      <td>No</td>\n",
       "      <td>Yes</td>\n",
       "      <td>Electronic check</td>\n",
       "      <td>29.85</td>\n",
       "      <td>0</td>\n",
       "    </tr>\n",
       "    <tr>\n",
       "      <th>1</th>\n",
       "      <td>0</td>\n",
       "      <td>No</td>\n",
       "      <td>No</td>\n",
       "      <td>34</td>\n",
       "      <td>No</td>\n",
       "      <td>DSL</td>\n",
       "      <td>Yes</td>\n",
       "      <td>No</td>\n",
       "      <td>Yes</td>\n",
       "      <td>No</td>\n",
       "      <td>No</td>\n",
       "      <td>No</td>\n",
       "      <td>No</td>\n",
       "      <td>Mailed check</td>\n",
       "      <td>56.95</td>\n",
       "      <td>0</td>\n",
       "    </tr>\n",
       "    <tr>\n",
       "      <th>2</th>\n",
       "      <td>0</td>\n",
       "      <td>No</td>\n",
       "      <td>No</td>\n",
       "      <td>2</td>\n",
       "      <td>No</td>\n",
       "      <td>DSL</td>\n",
       "      <td>Yes</td>\n",
       "      <td>Yes</td>\n",
       "      <td>No</td>\n",
       "      <td>No</td>\n",
       "      <td>No</td>\n",
       "      <td>No</td>\n",
       "      <td>Yes</td>\n",
       "      <td>Mailed check</td>\n",
       "      <td>53.85</td>\n",
       "      <td>1</td>\n",
       "    </tr>\n",
       "    <tr>\n",
       "      <th>3</th>\n",
       "      <td>0</td>\n",
       "      <td>No</td>\n",
       "      <td>No</td>\n",
       "      <td>45</td>\n",
       "      <td>No phone service</td>\n",
       "      <td>DSL</td>\n",
       "      <td>Yes</td>\n",
       "      <td>No</td>\n",
       "      <td>Yes</td>\n",
       "      <td>Yes</td>\n",
       "      <td>No</td>\n",
       "      <td>No</td>\n",
       "      <td>No</td>\n",
       "      <td>Bank transfer (automatic)</td>\n",
       "      <td>42.30</td>\n",
       "      <td>0</td>\n",
       "    </tr>\n",
       "    <tr>\n",
       "      <th>4</th>\n",
       "      <td>0</td>\n",
       "      <td>No</td>\n",
       "      <td>No</td>\n",
       "      <td>2</td>\n",
       "      <td>No</td>\n",
       "      <td>Fiber optic</td>\n",
       "      <td>No</td>\n",
       "      <td>No</td>\n",
       "      <td>No</td>\n",
       "      <td>No</td>\n",
       "      <td>No</td>\n",
       "      <td>No</td>\n",
       "      <td>Yes</td>\n",
       "      <td>Electronic check</td>\n",
       "      <td>70.70</td>\n",
       "      <td>1</td>\n",
       "    </tr>\n",
       "  </tbody>\n",
       "</table>\n",
       "</div>"
      ],
      "text/plain": [
       "   SeniorCitizen Partner Dependents  tenure     MultipleLines InternetService  \\\n",
       "0              0     Yes         No       1  No phone service             DSL   \n",
       "1              0      No         No      34                No             DSL   \n",
       "2              0      No         No       2                No             DSL   \n",
       "3              0      No         No      45  No phone service             DSL   \n",
       "4              0      No         No       2                No     Fiber optic   \n",
       "\n",
       "  OnlineSecurity OnlineBackup DeviceProtection TechSupport StreamingTV  \\\n",
       "0             No          Yes               No          No          No   \n",
       "1            Yes           No              Yes          No          No   \n",
       "2            Yes          Yes               No          No          No   \n",
       "3            Yes           No              Yes         Yes          No   \n",
       "4             No           No               No          No          No   \n",
       "\n",
       "  StreamingMovies PaperlessBilling              PaymentMethod  MonthlyCharges  \\\n",
       "0              No              Yes           Electronic check           29.85   \n",
       "1              No               No               Mailed check           56.95   \n",
       "2              No              Yes               Mailed check           53.85   \n",
       "3              No               No  Bank transfer (automatic)           42.30   \n",
       "4              No              Yes           Electronic check           70.70   \n",
       "\n",
       "   Churn  \n",
       "0      0  \n",
       "1      0  \n",
       "2      1  \n",
       "3      0  \n",
       "4      1  "
      ]
     },
     "execution_count": 76,
     "metadata": {},
     "output_type": "execute_result"
    }
   ],
   "source": [
    "df.head()"
   ]
  },
  {
   "cell_type": "code",
   "execution_count": 77,
   "id": "985a2a1e",
   "metadata": {},
   "outputs": [],
   "source": [
    "from sklearn.preprocessing import LabelEncoder, OneHotEncoder\n",
    "from sklearn.preprocessing import MinMaxScaler"
   ]
  },
  {
   "cell_type": "markdown",
   "id": "99a27d4f",
   "metadata": {},
   "source": [
    "Encoding categorical variables:"
   ]
  },
  {
   "cell_type": "code",
   "execution_count": 78,
   "id": "23842965",
   "metadata": {},
   "outputs": [],
   "source": [
    "cat_features = ['SeniorCitizen', 'Partner', 'Dependents',\n",
    "'MultipleLines', 'InternetService','OnlineSecurity','OnlineBackup', 'DeviceProtection', 'TechSupport', 'StreamingTV',\n",
    "'StreamingMovies', 'PaperlessBilling', 'PaymentMethod']\n",
    "X = pd.get_dummies(df, columns=cat_features, drop_first=True)"
   ]
  },
  {
   "cell_type": "code",
   "execution_count": 79,
   "id": "c7cf3cab",
   "metadata": {},
   "outputs": [
    {
     "data": {
      "text/html": [
       "<div>\n",
       "<style scoped>\n",
       "    .dataframe tbody tr th:only-of-type {\n",
       "        vertical-align: middle;\n",
       "    }\n",
       "\n",
       "    .dataframe tbody tr th {\n",
       "        vertical-align: top;\n",
       "    }\n",
       "\n",
       "    .dataframe thead th {\n",
       "        text-align: right;\n",
       "    }\n",
       "</style>\n",
       "<table border=\"1\" class=\"dataframe\">\n",
       "  <thead>\n",
       "    <tr style=\"text-align: right;\">\n",
       "      <th></th>\n",
       "      <th>tenure</th>\n",
       "      <th>MonthlyCharges</th>\n",
       "      <th>Churn</th>\n",
       "      <th>SeniorCitizen_1</th>\n",
       "      <th>Partner_Yes</th>\n",
       "      <th>Dependents_Yes</th>\n",
       "      <th>MultipleLines_No phone service</th>\n",
       "      <th>MultipleLines_Yes</th>\n",
       "      <th>InternetService_Fiber optic</th>\n",
       "      <th>InternetService_No</th>\n",
       "      <th>...</th>\n",
       "      <th>TechSupport_No internet service</th>\n",
       "      <th>TechSupport_Yes</th>\n",
       "      <th>StreamingTV_No internet service</th>\n",
       "      <th>StreamingTV_Yes</th>\n",
       "      <th>StreamingMovies_No internet service</th>\n",
       "      <th>StreamingMovies_Yes</th>\n",
       "      <th>PaperlessBilling_Yes</th>\n",
       "      <th>PaymentMethod_Credit card (automatic)</th>\n",
       "      <th>PaymentMethod_Electronic check</th>\n",
       "      <th>PaymentMethod_Mailed check</th>\n",
       "    </tr>\n",
       "  </thead>\n",
       "  <tbody>\n",
       "    <tr>\n",
       "      <th>0</th>\n",
       "      <td>1</td>\n",
       "      <td>29.85</td>\n",
       "      <td>0</td>\n",
       "      <td>0</td>\n",
       "      <td>1</td>\n",
       "      <td>0</td>\n",
       "      <td>1</td>\n",
       "      <td>0</td>\n",
       "      <td>0</td>\n",
       "      <td>0</td>\n",
       "      <td>...</td>\n",
       "      <td>0</td>\n",
       "      <td>0</td>\n",
       "      <td>0</td>\n",
       "      <td>0</td>\n",
       "      <td>0</td>\n",
       "      <td>0</td>\n",
       "      <td>1</td>\n",
       "      <td>0</td>\n",
       "      <td>1</td>\n",
       "      <td>0</td>\n",
       "    </tr>\n",
       "    <tr>\n",
       "      <th>1</th>\n",
       "      <td>34</td>\n",
       "      <td>56.95</td>\n",
       "      <td>0</td>\n",
       "      <td>0</td>\n",
       "      <td>0</td>\n",
       "      <td>0</td>\n",
       "      <td>0</td>\n",
       "      <td>0</td>\n",
       "      <td>0</td>\n",
       "      <td>0</td>\n",
       "      <td>...</td>\n",
       "      <td>0</td>\n",
       "      <td>0</td>\n",
       "      <td>0</td>\n",
       "      <td>0</td>\n",
       "      <td>0</td>\n",
       "      <td>0</td>\n",
       "      <td>0</td>\n",
       "      <td>0</td>\n",
       "      <td>0</td>\n",
       "      <td>1</td>\n",
       "    </tr>\n",
       "    <tr>\n",
       "      <th>2</th>\n",
       "      <td>2</td>\n",
       "      <td>53.85</td>\n",
       "      <td>1</td>\n",
       "      <td>0</td>\n",
       "      <td>0</td>\n",
       "      <td>0</td>\n",
       "      <td>0</td>\n",
       "      <td>0</td>\n",
       "      <td>0</td>\n",
       "      <td>0</td>\n",
       "      <td>...</td>\n",
       "      <td>0</td>\n",
       "      <td>0</td>\n",
       "      <td>0</td>\n",
       "      <td>0</td>\n",
       "      <td>0</td>\n",
       "      <td>0</td>\n",
       "      <td>1</td>\n",
       "      <td>0</td>\n",
       "      <td>0</td>\n",
       "      <td>1</td>\n",
       "    </tr>\n",
       "    <tr>\n",
       "      <th>3</th>\n",
       "      <td>45</td>\n",
       "      <td>42.30</td>\n",
       "      <td>0</td>\n",
       "      <td>0</td>\n",
       "      <td>0</td>\n",
       "      <td>0</td>\n",
       "      <td>1</td>\n",
       "      <td>0</td>\n",
       "      <td>0</td>\n",
       "      <td>0</td>\n",
       "      <td>...</td>\n",
       "      <td>0</td>\n",
       "      <td>1</td>\n",
       "      <td>0</td>\n",
       "      <td>0</td>\n",
       "      <td>0</td>\n",
       "      <td>0</td>\n",
       "      <td>0</td>\n",
       "      <td>0</td>\n",
       "      <td>0</td>\n",
       "      <td>0</td>\n",
       "    </tr>\n",
       "    <tr>\n",
       "      <th>4</th>\n",
       "      <td>2</td>\n",
       "      <td>70.70</td>\n",
       "      <td>1</td>\n",
       "      <td>0</td>\n",
       "      <td>0</td>\n",
       "      <td>0</td>\n",
       "      <td>0</td>\n",
       "      <td>0</td>\n",
       "      <td>1</td>\n",
       "      <td>0</td>\n",
       "      <td>...</td>\n",
       "      <td>0</td>\n",
       "      <td>0</td>\n",
       "      <td>0</td>\n",
       "      <td>0</td>\n",
       "      <td>0</td>\n",
       "      <td>0</td>\n",
       "      <td>1</td>\n",
       "      <td>0</td>\n",
       "      <td>1</td>\n",
       "      <td>0</td>\n",
       "    </tr>\n",
       "  </tbody>\n",
       "</table>\n",
       "<p>5 rows × 26 columns</p>\n",
       "</div>"
      ],
      "text/plain": [
       "   tenure  MonthlyCharges  Churn  SeniorCitizen_1  Partner_Yes  \\\n",
       "0       1           29.85      0                0            1   \n",
       "1      34           56.95      0                0            0   \n",
       "2       2           53.85      1                0            0   \n",
       "3      45           42.30      0                0            0   \n",
       "4       2           70.70      1                0            0   \n",
       "\n",
       "   Dependents_Yes  MultipleLines_No phone service  MultipleLines_Yes  \\\n",
       "0               0                               1                  0   \n",
       "1               0                               0                  0   \n",
       "2               0                               0                  0   \n",
       "3               0                               1                  0   \n",
       "4               0                               0                  0   \n",
       "\n",
       "   InternetService_Fiber optic  InternetService_No  ...  \\\n",
       "0                            0                   0  ...   \n",
       "1                            0                   0  ...   \n",
       "2                            0                   0  ...   \n",
       "3                            0                   0  ...   \n",
       "4                            1                   0  ...   \n",
       "\n",
       "   TechSupport_No internet service  TechSupport_Yes  \\\n",
       "0                                0                0   \n",
       "1                                0                0   \n",
       "2                                0                0   \n",
       "3                                0                1   \n",
       "4                                0                0   \n",
       "\n",
       "   StreamingTV_No internet service  StreamingTV_Yes  \\\n",
       "0                                0                0   \n",
       "1                                0                0   \n",
       "2                                0                0   \n",
       "3                                0                0   \n",
       "4                                0                0   \n",
       "\n",
       "   StreamingMovies_No internet service  StreamingMovies_Yes  \\\n",
       "0                                    0                    0   \n",
       "1                                    0                    0   \n",
       "2                                    0                    0   \n",
       "3                                    0                    0   \n",
       "4                                    0                    0   \n",
       "\n",
       "   PaperlessBilling_Yes  PaymentMethod_Credit card (automatic)  \\\n",
       "0                     1                                      0   \n",
       "1                     0                                      0   \n",
       "2                     1                                      0   \n",
       "3                     0                                      0   \n",
       "4                     1                                      0   \n",
       "\n",
       "   PaymentMethod_Electronic check  PaymentMethod_Mailed check  \n",
       "0                               1                           0  \n",
       "1                               0                           1  \n",
       "2                               0                           1  \n",
       "3                               0                           0  \n",
       "4                               1                           0  \n",
       "\n",
       "[5 rows x 26 columns]"
      ]
     },
     "execution_count": 79,
     "metadata": {},
     "output_type": "execute_result"
    }
   ],
   "source": [
    "X.head()"
   ]
  },
  {
   "cell_type": "code",
   "execution_count": 80,
   "id": "72d74fe8",
   "metadata": {},
   "outputs": [],
   "source": [
    "#scaled down numerical and continous variables \n",
    "match = MinMaxScaler()\n",
    "a = match.fit_transform(df[['tenure']])\n",
    "b = match.fit_transform(df[['MonthlyCharges']])\n",
    "X['tenure'] = a\n",
    "X['MonthlyCharges'] = b"
   ]
  },
  {
   "cell_type": "code",
   "execution_count": 82,
   "id": "f8098a9d",
   "metadata": {},
   "outputs": [
    {
     "data": {
      "text/html": [
       "<div>\n",
       "<style scoped>\n",
       "    .dataframe tbody tr th:only-of-type {\n",
       "        vertical-align: middle;\n",
       "    }\n",
       "\n",
       "    .dataframe tbody tr th {\n",
       "        vertical-align: top;\n",
       "    }\n",
       "\n",
       "    .dataframe thead th {\n",
       "        text-align: right;\n",
       "    }\n",
       "</style>\n",
       "<table border=\"1\" class=\"dataframe\">\n",
       "  <thead>\n",
       "    <tr style=\"text-align: right;\">\n",
       "      <th></th>\n",
       "      <th>tenure</th>\n",
       "      <th>MonthlyCharges</th>\n",
       "      <th>Churn</th>\n",
       "      <th>SeniorCitizen_1</th>\n",
       "      <th>Partner_Yes</th>\n",
       "      <th>Dependents_Yes</th>\n",
       "      <th>MultipleLines_No phone service</th>\n",
       "      <th>MultipleLines_Yes</th>\n",
       "      <th>InternetService_Fiber optic</th>\n",
       "      <th>InternetService_No</th>\n",
       "      <th>...</th>\n",
       "      <th>TechSupport_No internet service</th>\n",
       "      <th>TechSupport_Yes</th>\n",
       "      <th>StreamingTV_No internet service</th>\n",
       "      <th>StreamingTV_Yes</th>\n",
       "      <th>StreamingMovies_No internet service</th>\n",
       "      <th>StreamingMovies_Yes</th>\n",
       "      <th>PaperlessBilling_Yes</th>\n",
       "      <th>PaymentMethod_Credit card (automatic)</th>\n",
       "      <th>PaymentMethod_Electronic check</th>\n",
       "      <th>PaymentMethod_Mailed check</th>\n",
       "    </tr>\n",
       "  </thead>\n",
       "  <tbody>\n",
       "    <tr>\n",
       "      <th>0</th>\n",
       "      <td>0.013889</td>\n",
       "      <td>0.115423</td>\n",
       "      <td>0</td>\n",
       "      <td>0</td>\n",
       "      <td>1</td>\n",
       "      <td>0</td>\n",
       "      <td>1</td>\n",
       "      <td>0</td>\n",
       "      <td>0</td>\n",
       "      <td>0</td>\n",
       "      <td>...</td>\n",
       "      <td>0</td>\n",
       "      <td>0</td>\n",
       "      <td>0</td>\n",
       "      <td>0</td>\n",
       "      <td>0</td>\n",
       "      <td>0</td>\n",
       "      <td>1</td>\n",
       "      <td>0</td>\n",
       "      <td>1</td>\n",
       "      <td>0</td>\n",
       "    </tr>\n",
       "    <tr>\n",
       "      <th>1</th>\n",
       "      <td>0.472222</td>\n",
       "      <td>0.385075</td>\n",
       "      <td>0</td>\n",
       "      <td>0</td>\n",
       "      <td>0</td>\n",
       "      <td>0</td>\n",
       "      <td>0</td>\n",
       "      <td>0</td>\n",
       "      <td>0</td>\n",
       "      <td>0</td>\n",
       "      <td>...</td>\n",
       "      <td>0</td>\n",
       "      <td>0</td>\n",
       "      <td>0</td>\n",
       "      <td>0</td>\n",
       "      <td>0</td>\n",
       "      <td>0</td>\n",
       "      <td>0</td>\n",
       "      <td>0</td>\n",
       "      <td>0</td>\n",
       "      <td>1</td>\n",
       "    </tr>\n",
       "  </tbody>\n",
       "</table>\n",
       "<p>2 rows × 26 columns</p>\n",
       "</div>"
      ],
      "text/plain": [
       "     tenure  MonthlyCharges  Churn  SeniorCitizen_1  Partner_Yes  \\\n",
       "0  0.013889        0.115423      0                0            1   \n",
       "1  0.472222        0.385075      0                0            0   \n",
       "\n",
       "   Dependents_Yes  MultipleLines_No phone service  MultipleLines_Yes  \\\n",
       "0               0                               1                  0   \n",
       "1               0                               0                  0   \n",
       "\n",
       "   InternetService_Fiber optic  InternetService_No  ...  \\\n",
       "0                            0                   0  ...   \n",
       "1                            0                   0  ...   \n",
       "\n",
       "   TechSupport_No internet service  TechSupport_Yes  \\\n",
       "0                                0                0   \n",
       "1                                0                0   \n",
       "\n",
       "   StreamingTV_No internet service  StreamingTV_Yes  \\\n",
       "0                                0                0   \n",
       "1                                0                0   \n",
       "\n",
       "   StreamingMovies_No internet service  StreamingMovies_Yes  \\\n",
       "0                                    0                    0   \n",
       "1                                    0                    0   \n",
       "\n",
       "   PaperlessBilling_Yes  PaymentMethod_Credit card (automatic)  \\\n",
       "0                     1                                      0   \n",
       "1                     0                                      0   \n",
       "\n",
       "   PaymentMethod_Electronic check  PaymentMethod_Mailed check  \n",
       "0                               1                           0  \n",
       "1                               0                           1  \n",
       "\n",
       "[2 rows x 26 columns]"
      ]
     },
     "execution_count": 82,
     "metadata": {},
     "output_type": "execute_result"
    }
   ],
   "source": [
    "X.head(2)"
   ]
  },
  {
   "cell_type": "code",
   "execution_count": 83,
   "id": "37fb60dd",
   "metadata": {},
   "outputs": [
    {
     "data": {
      "text/plain": [
       "(7043, 26)"
      ]
     },
     "execution_count": 83,
     "metadata": {},
     "output_type": "execute_result"
    }
   ],
   "source": [
    "X.shape\n"
   ]
  },
  {
   "cell_type": "code",
   "execution_count": 84,
   "id": "a4526c26",
   "metadata": {},
   "outputs": [
    {
     "data": {
      "image/png": "[encoded data removed]",
      "text/plain": [
       "<Figure size 432x288 with 1 Axes>"
      ]
     },
     "metadata": {},
     "output_type": "display_data"
    }
   ],
   "source": [
    "#balance/imbalance checking \n",
    "ax = sns.countplot(y=\"Churn\", data=df)\n",
    "plt.title('Class Distribution Before Resampling')\n",
    "plt.xlabel('Count')\n",
    "\n",
    "total = len(df['Churn'])\n",
    "for p in ax.patches:\n",
    "        percentage = '{:.1f}%'.format(100 * p.get_width()/total)\n",
    "        x = p.get_x() + p.get_width() + 0.02\n",
    "        y = p.get_y() + p.get_height()/2\n",
    "        ax.annotate(percentage, (x, y))\n",
    "\n",
    "plt.show()"
   ]
  },
  {
   "cell_type": "code",
   "execution_count": 85,
   "id": "e68a99a8",
   "metadata": {},
   "outputs": [],
   "source": [
    "#Assign feature_ counts\n",
    "Cno = X[X.Churn == 0]\n",
    "Cyes = X[X.Churn == 1]"
   ]
  },
  {
   "cell_type": "code",
   "execution_count": 87,
   "id": "b673d2ac",
   "metadata": {},
   "outputs": [
    {
     "name": "stdout",
     "output_type": "stream",
     "text": [
      "(5174, 26)\n"
     ]
    }
   ],
   "source": [
    "#Balancing the imbalance data\n",
    "from sklearn.utils import resample\n",
    "upsample = resample(Cyes,\n",
    "             replace=True,\n",
    "             n_samples=len(Cno),\n",
    "             random_state=42)\n",
    "\n",
    "print(upsample.shape)"
   ]
  },
  {
   "cell_type": "code",
   "execution_count": 93,
   "id": "4fbd076d",
   "metadata": {},
   "outputs": [
    {
     "name": "stdout",
     "output_type": "stream",
     "text": [
      "0    5174\n",
      "1    5174\n",
      "Name: Churn, dtype: int64\n"
     ]
    },
    {
     "data": {
      "text/plain": [
       "<AxesSubplot:ylabel='Type'>"
      ]
     },
     "execution_count": 93,
     "metadata": {},
     "output_type": "execute_result"
    },
    {
     "data": {
      "image/png": "[encoded data removed]",
      "text/plain": [
       "<Figure size 432x288 with 1 Axes>"
      ]
     },
     "metadata": {},
     "output_type": "display_data"
    }
   ],
   "source": [
    "#check new balance / imbalance\n",
    "downsampled = pd.concat([upsample, Cno])\n",
    "print(downsampled[\"Churn\"].value_counts())\n",
    "\n",
    "downsampled.groupby('Churn').size().plot(kind='pie',\n",
    "                                       y = \"v1\",\n",
    "                                       label = \"Type\",\n",
    "                                       autopct='%1.1f%%')"
   ]
  },
  {
   "cell_type": "code",
   "execution_count": 94,
   "id": "d4eed790",
   "metadata": {},
   "outputs": [
    {
     "data": {
      "text/plain": [
       "0    5174\n",
       "1    5174\n",
       "Name: Churn, dtype: int64"
      ]
     },
     "execution_count": 94,
     "metadata": {},
     "output_type": "execute_result"
    }
   ],
   "source": [
    "upsampled['Churn'].value_counts()"
   ]
  },
  {
   "cell_type": "markdown",
   "id": "77c62354",
   "metadata": {},
   "source": [
    "Indepentend and target variable seperation"
   ]
  },
  {
   "cell_type": "code",
   "execution_count": 95,
   "id": "ff65bb37",
   "metadata": {},
   "outputs": [],
   "source": [
    "from sklearn.model_selection import train_test_split\n",
    "X = upsampled.drop(['Churn'], axis=1) #features (independent variables)\n",
    "y = upsampled['Churn'] #target (dependent variable)"
   ]
  },
  {
   "cell_type": "code",
   "execution_count": 96,
   "id": "7a91a05a",
   "metadata": {},
   "outputs": [],
   "source": [
    "X_train, X_test, y_train, y_test = train_test_split(X, y, test_size = 0.2, random_state=42)"
   ]
  },
  {
   "cell_type": "markdown",
   "id": "20f6a9cd",
   "metadata": {},
   "source": [
    "### ----------Model building------------"
   ]
  },
  {
   "cell_type": "code",
   "execution_count": 97,
   "id": "1db47835",
   "metadata": {},
   "outputs": [],
   "source": [
    "from sklearn.linear_model import LogisticRegression\n",
    "from sklearn.metrics import confusion_matrix\n",
    "LR = LogisticRegression(C=5, solver='sag',max_iter=10000).fit(X_train,y_train)"
   ]
  },
  {
   "cell_type": "code",
   "execution_count": 98,
   "id": "e02fa8bd",
   "metadata": {},
   "outputs": [
    {
     "data": {
      "text/plain": [
       "array([1, 0, 1, ..., 0, 0, 1], dtype=int64)"
      ]
     },
     "execution_count": 98,
     "metadata": {},
     "output_type": "execute_result"
    }
   ],
   "source": [
    "yhat = LR.predict(X_test)\n",
    "yhat"
   ]
  },
  {
   "cell_type": "code",
   "execution_count": 99,
   "id": "f66467c2",
   "metadata": {},
   "outputs": [
    {
     "name": "stdout",
     "output_type": "stream",
     "text": [
      "[[791 235]\n",
      " [261 783]]\n"
     ]
    }
   ],
   "source": [
    "from sklearn.metrics import classification_report, confusion_matrix\n",
    "import itertools\n",
    "def plot_confusion_matrix(cm, classes,\n",
    "                          normalize=False,\n",
    "                          title='Confusion matrix',\n",
    "                          cmap=plt.cm.Blues):\n",
    "    \"\"\"\n",
    "    This function prints and plots the confusion matrix.\n",
    "    Normalization can be applied by setting `normalize=True`.\n",
    "    \"\"\"\n",
    "    if normalize:\n",
    "        cm = cm.astype('float') / cm.sum(axis=1)[:, np.newaxis]\n",
    "        print(\"Normalized confusion matrix\")\n",
    "    else:\n",
    "        print('Confusion matrix, without normalization')\n",
    "\n",
    "    print(cm)\n",
    "    \n",
    "    plt.imshow(cm, interpolation='nearest', cmap=cmap)\n",
    "    plt.title(title)\n",
    "    plt.colorbar()\n",
    "    tick_marks = np.arange(len(classes))\n",
    "    plt.xticks(tick_marks, classes, rotation=45)\n",
    "    plt.yticks(tick_marks, classes)\n",
    "\n",
    "    fmt = '.2f' if normalize else 'd'\n",
    "    thresh = cm.max() / 2.\n",
    "    for i, j in itertools.product(range(cm.shape[0]), range(cm.shape[1])):\n",
    "        plt.text(j, i, format(cm[i, j], fmt),\n",
    "                 horizontalalignment=\"center\",\n",
    "                 color=\"white\" if cm[i, j] > thresh else \"black\")\n",
    "\n",
    "    plt.tight_layout()\n",
    "    plt.ylabel('True label')\n",
    "    plt.xlabel('Predicted label')\n",
    "print(confusion_matrix(y_test, yhat, labels=[1,0]))"
   ]
  },
  {
   "cell_type": "code",
   "execution_count": 100,
   "id": "a49200fb",
   "metadata": {},
   "outputs": [],
   "source": [
    "# For model building\n",
    "from sklearn.linear_model import LogisticRegression\n",
    "from sklearn.neighbors import KNeighborsClassifier\n",
    "from sklearn.svm import SVC\n",
    "from sklearn.tree import DecisionTreeClassifier\n",
    "from sklearn.ensemble import RandomForestClassifier  # For ensemble learning\n",
    "from sklearn.model_selection import GridSearchCV  # For ensemble learning\n",
    "\n",
    "# For evaluating model performance\n",
    "from sklearn.metrics import accuracy_score, confusion_matrix"
   ]
  },
  {
   "cell_type": "code",
   "execution_count": 103,
   "id": "78fea408",
   "metadata": {},
   "outputs": [],
   "source": [
    "def model_performance(model, testing_set):\n",
    "    \"\"\"\n",
    "    This function takes in a class of a model, then builds a model \n",
    "    on the existing training set and tests upon the given testing sets.\n",
    "    Also can get the visualization of confusion matrices.\n",
    "    \n",
    "    \"\"\"\n",
    "    mod_ = model()\n",
    "    mod_.fit(X_train, y_train)\n",
    "    y_preds = mod_.predict(X_test)\n",
    "    acc_score = np.round(accuracy_score(testing_set, y_preds)*100, 3)\n",
    "    print(f\"{type(mod_).__name__} model has an accuracy of {acc_score}%\")\n",
    "    \n",
    "    confusion_mat = confusion_matrix(y_test, y_preds)\n",
    "    plt.figure(figsize=(4, 4))\n",
    "    plt.title(f\"Confusion Matrix for {type(mod_).__name__} model\".center(60, \" \"), size=12)\n",
    "    g = sns.heatmap(confusion_mat, linewidth=0.5, cbar=False, annot=True, cmap=cmap, fmt='g')\n",
    "    g.set_yticklabels(['Did not\\nChurn', 'Churn'], size=8)\n",
    "    g.set_xticklabels(['Did not\\nChurn', 'Churn'], size=8)\n",
    "    g.set_ylabel(\"True Label\", size=12)\n",
    "    g.set_xlabel(\"Predicted Label\", size=12)\n",
    "    return plt.show()"
   ]
  },
  {
   "cell_type": "code",
   "execution_count": 104,
   "id": "84378ab6",
   "metadata": {},
   "outputs": [
    {
     "name": "stdout",
     "output_type": "stream",
     "text": [
      "LogisticRegression model has an accuracy of 76.039%\n"
     ]
    },
    {
     "data": {
      "image/png": "[encoded data removed]",
      "text/plain": [
       "<Figure size 288x288 with 1 Axes>"
      ]
     },
     "metadata": {},
     "output_type": "display_data"
    },
    {
     "name": "stdout",
     "output_type": "stream",
     "text": [
      "KNeighborsClassifier model has an accuracy of 77.44%\n"
     ]
    },
    {
     "data": {
      "image/png": "[encoded data removed]",
      "text/plain": [
       "<Figure size 288x288 with 1 Axes>"
      ]
     },
     "metadata": {},
     "output_type": "display_data"
    },
    {
     "name": "stdout",
     "output_type": "stream",
     "text": [
      "SVC model has an accuracy of 77.198%\n"
     ]
    },
    {
     "data": {
      "image/png": "[encoded data removed]",
      "text/plain": [
       "<Figure size 288x288 with 1 Axes>"
      ]
     },
     "metadata": {},
     "output_type": "display_data"
    },
    {
     "name": "stdout",
     "output_type": "stream",
     "text": [
      "DecisionTreeClassifier model has an accuracy of 88.889%\n"
     ]
    },
    {
     "data": {
      "image/png": "[encoded data removed]",
      "text/plain": [
       "<Figure size 288x288 with 1 Axes>"
      ]
     },
     "metadata": {},
     "output_type": "display_data"
    }
   ],
   "source": [
    "model_performance(LogisticRegression, y_test.values.reshape(-1,1))\n",
    "model_performance(KNeighborsClassifier, y_test.values.reshape(-1,1))\n",
    "model_performance(SVC, y_test.values.reshape(-1,1))\n",
    "model_performance(DecisionTreeClassifier, y_test.values.reshape(-1,1))"
   ]
  },
  {
   "cell_type": "code",
   "execution_count": 105,
   "id": "1ff92354",
   "metadata": {},
   "outputs": [],
   "source": [
    "import statsmodels.api as sm"
   ]
  },
  {
   "cell_type": "code",
   "execution_count": 106,
   "id": "f646ca27",
   "metadata": {},
   "outputs": [
    {
     "data": {
      "text/html": [
       "<table class=\"simpletable\">\n",
       "<caption>OLS Regression Results</caption>\n",
       "<tr>\n",
       "  <th>Dep. Variable:</th>          <td>Churn</td>      <th>  R-squared:         </th> <td>   0.338</td>\n",
       "</tr>\n",
       "<tr>\n",
       "  <th>Model:</th>                   <td>OLS</td>       <th>  Adj. R-squared:    </th> <td>   0.337</td>\n",
       "</tr>\n",
       "<tr>\n",
       "  <th>Method:</th>             <td>Least Squares</td>  <th>  F-statistic:       </th> <td>   222.4</td>\n",
       "</tr>\n",
       "<tr>\n",
       "  <th>Date:</th>             <td>Sat, 19 Nov 2022</td> <th>  Prob (F-statistic):</th>  <td>  0.00</td> \n",
       "</tr>\n",
       "<tr>\n",
       "  <th>Time:</th>                 <td>07:10:12</td>     <th>  Log-Likelihood:    </th> <td> -4298.0</td>\n",
       "</tr>\n",
       "<tr>\n",
       "  <th>No. Observations:</th>      <td>  8278</td>      <th>  AIC:               </th> <td>   8636.</td>\n",
       "</tr>\n",
       "<tr>\n",
       "  <th>Df Residuals:</th>          <td>  8258</td>      <th>  BIC:               </th> <td>   8776.</td>\n",
       "</tr>\n",
       "<tr>\n",
       "  <th>Df Model:</th>              <td>    19</td>      <th>                     </th>     <td> </td>   \n",
       "</tr>\n",
       "<tr>\n",
       "  <th>Covariance Type:</th>      <td>nonrobust</td>    <th>                     </th>     <td> </td>   \n",
       "</tr>\n",
       "</table>\n",
       "<table class=\"simpletable\">\n",
       "<tr>\n",
       "                    <td></td>                       <th>coef</th>     <th>std err</th>      <th>t</th>      <th>P>|t|</th>  <th>[0.025</th>    <th>0.975]</th>  \n",
       "</tr>\n",
       "<tr>\n",
       "  <th>const</th>                                 <td>    0.9206</td> <td>    0.120</td> <td>    7.680</td> <td> 0.000</td> <td>    0.686</td> <td>    1.156</td>\n",
       "</tr>\n",
       "<tr>\n",
       "  <th>tenure</th>                                <td>   -0.5072</td> <td>    0.019</td> <td>  -26.624</td> <td> 0.000</td> <td>   -0.545</td> <td>   -0.470</td>\n",
       "</tr>\n",
       "<tr>\n",
       "  <th>MonthlyCharges</th>                        <td>   -1.2996</td> <td>    0.446</td> <td>   -2.916</td> <td> 0.004</td> <td>   -2.173</td> <td>   -0.426</td>\n",
       "</tr>\n",
       "<tr>\n",
       "  <th>SeniorCitizen_1</th>                       <td>    0.0503</td> <td>    0.012</td> <td>    4.127</td> <td> 0.000</td> <td>    0.026</td> <td>    0.074</td>\n",
       "</tr>\n",
       "<tr>\n",
       "  <th>Partner_Yes</th>                           <td>    0.0037</td> <td>    0.011</td> <td>    0.344</td> <td> 0.731</td> <td>   -0.017</td> <td>    0.025</td>\n",
       "</tr>\n",
       "<tr>\n",
       "  <th>Dependents_Yes</th>                        <td>   -0.0472</td> <td>    0.012</td> <td>   -3.947</td> <td> 0.000</td> <td>   -0.071</td> <td>   -0.024</td>\n",
       "</tr>\n",
       "<tr>\n",
       "  <th>MultipleLines_No phone service</th>        <td>   -0.1791</td> <td>    0.091</td> <td>   -1.979</td> <td> 0.048</td> <td>   -0.357</td> <td>   -0.002</td>\n",
       "</tr>\n",
       "<tr>\n",
       "  <th>MultipleLines_Yes</th>                     <td>    0.1179</td> <td>    0.025</td> <td>    4.747</td> <td> 0.000</td> <td>    0.069</td> <td>    0.167</td>\n",
       "</tr>\n",
       "<tr>\n",
       "  <th>InternetService_Fiber optic</th>           <td>    0.4942</td> <td>    0.111</td> <td>    4.434</td> <td> 0.000</td> <td>    0.276</td> <td>    0.713</td>\n",
       "</tr>\n",
       "<tr>\n",
       "  <th>InternetService_No</th>                    <td>   -0.0773</td> <td>    0.016</td> <td>   -4.808</td> <td> 0.000</td> <td>   -0.109</td> <td>   -0.046</td>\n",
       "</tr>\n",
       "<tr>\n",
       "  <th>OnlineSecurity_No internet service</th>    <td>   -0.0773</td> <td>    0.016</td> <td>   -4.808</td> <td> 0.000</td> <td>   -0.109</td> <td>   -0.046</td>\n",
       "</tr>\n",
       "<tr>\n",
       "  <th>OnlineSecurity_Yes</th>                    <td>   -0.0207</td> <td>    0.025</td> <td>   -0.820</td> <td> 0.412</td> <td>   -0.070</td> <td>    0.029</td>\n",
       "</tr>\n",
       "<tr>\n",
       "  <th>OnlineBackup_No internet service</th>      <td>   -0.0773</td> <td>    0.016</td> <td>   -4.808</td> <td> 0.000</td> <td>   -0.109</td> <td>   -0.046</td>\n",
       "</tr>\n",
       "<tr>\n",
       "  <th>OnlineBackup_Yes</th>                      <td>    0.0509</td> <td>    0.025</td> <td>    2.059</td> <td> 0.039</td> <td>    0.002</td> <td>    0.099</td>\n",
       "</tr>\n",
       "<tr>\n",
       "  <th>DeviceProtection_No internet service</th>  <td>   -0.0773</td> <td>    0.016</td> <td>   -4.808</td> <td> 0.000</td> <td>   -0.109</td> <td>   -0.046</td>\n",
       "</tr>\n",
       "<tr>\n",
       "  <th>DeviceProtection_Yes</th>                  <td>    0.0420</td> <td>    0.025</td> <td>    1.693</td> <td> 0.091</td> <td>   -0.007</td> <td>    0.091</td>\n",
       "</tr>\n",
       "<tr>\n",
       "  <th>TechSupport_No internet service</th>       <td>   -0.0773</td> <td>    0.016</td> <td>   -4.808</td> <td> 0.000</td> <td>   -0.109</td> <td>   -0.046</td>\n",
       "</tr>\n",
       "<tr>\n",
       "  <th>TechSupport_Yes</th>                       <td>   -0.0283</td> <td>    0.025</td> <td>   -1.116</td> <td> 0.264</td> <td>   -0.078</td> <td>    0.021</td>\n",
       "</tr>\n",
       "<tr>\n",
       "  <th>StreamingTV_No internet service</th>       <td>   -0.0773</td> <td>    0.016</td> <td>   -4.808</td> <td> 0.000</td> <td>   -0.109</td> <td>   -0.046</td>\n",
       "</tr>\n",
       "<tr>\n",
       "  <th>StreamingTV_Yes</th>                       <td>    0.1568</td> <td>    0.046</td> <td>    3.430</td> <td> 0.001</td> <td>    0.067</td> <td>    0.246</td>\n",
       "</tr>\n",
       "<tr>\n",
       "  <th>StreamingMovies_No internet service</th>   <td>   -0.0773</td> <td>    0.016</td> <td>   -4.808</td> <td> 0.000</td> <td>   -0.109</td> <td>   -0.046</td>\n",
       "</tr>\n",
       "<tr>\n",
       "  <th>StreamingMovies_Yes</th>                   <td>    0.1621</td> <td>    0.046</td> <td>    3.551</td> <td> 0.000</td> <td>    0.073</td> <td>    0.252</td>\n",
       "</tr>\n",
       "<tr>\n",
       "  <th>PaperlessBilling_Yes</th>                  <td>    0.0615</td> <td>    0.010</td> <td>    6.005</td> <td> 0.000</td> <td>    0.041</td> <td>    0.082</td>\n",
       "</tr>\n",
       "<tr>\n",
       "  <th>PaymentMethod_Credit card (automatic)</th> <td>   -0.0217</td> <td>    0.015</td> <td>   -1.486</td> <td> 0.137</td> <td>   -0.050</td> <td>    0.007</td>\n",
       "</tr>\n",
       "<tr>\n",
       "  <th>PaymentMethod_Electronic check</th>        <td>    0.0832</td> <td>    0.013</td> <td>    6.264</td> <td> 0.000</td> <td>    0.057</td> <td>    0.109</td>\n",
       "</tr>\n",
       "<tr>\n",
       "  <th>PaymentMethod_Mailed check</th>            <td>   -0.0009</td> <td>    0.015</td> <td>   -0.056</td> <td> 0.955</td> <td>   -0.031</td> <td>    0.029</td>\n",
       "</tr>\n",
       "</table>\n",
       "<table class=\"simpletable\">\n",
       "<tr>\n",
       "  <th>Omnibus:</th>       <td>467.235</td> <th>  Durbin-Watson:     </th> <td>   1.995</td>\n",
       "</tr>\n",
       "<tr>\n",
       "  <th>Prob(Omnibus):</th> <td> 0.000</td>  <th>  Jarque-Bera (JB):  </th> <td> 196.726</td>\n",
       "</tr>\n",
       "<tr>\n",
       "  <th>Skew:</th>          <td>-0.138</td>  <th>  Prob(JB):          </th> <td>1.91e-43</td>\n",
       "</tr>\n",
       "<tr>\n",
       "  <th>Kurtosis:</th>      <td> 2.297</td>  <th>  Cond. No.          </th> <td>1.22e+16</td>\n",
       "</tr>\n",
       "</table><br/><br/>Notes:<br/>[1] Standard Errors assume that the covariance matrix of the errors is correctly specified.<br/>[2] The smallest eigenvalue is 2.2e-28. This might indicate that there are<br/>strong multicollinearity problems or that the design matrix is singular."
      ],
      "text/plain": [
       "<class 'statsmodels.iolib.summary.Summary'>\n",
       "\"\"\"\n",
       "                            OLS Regression Results                            \n",
       "==============================================================================\n",
       "Dep. Variable:                  Churn   R-squared:                       0.338\n",
       "Model:                            OLS   Adj. R-squared:                  0.337\n",
       "Method:                 Least Squares   F-statistic:                     222.4\n",
       "Date:                Sat, 19 Nov 2022   Prob (F-statistic):               0.00\n",
       "Time:                        07:10:12   Log-Likelihood:                -4298.0\n",
       "No. Observations:                8278   AIC:                             8636.\n",
       "Df Residuals:                    8258   BIC:                             8776.\n",
       "Df Model:                          19                                         \n",
       "Covariance Type:            nonrobust                                         \n",
       "=========================================================================================================\n",
       "                                            coef    std err          t      P>|t|      [0.025      0.975]\n",
       "---------------------------------------------------------------------------------------------------------\n",
       "const                                     0.9206      0.120      7.680      0.000       0.686       1.156\n",
       "tenure                                   -0.5072      0.019    -26.624      0.000      -0.545      -0.470\n",
       "MonthlyCharges                           -1.2996      0.446     -2.916      0.004      -2.173      -0.426\n",
       "SeniorCitizen_1                           0.0503      0.012      4.127      0.000       0.026       0.074\n",
       "Partner_Yes                               0.0037      0.011      0.344      0.731      -0.017       0.025\n",
       "Dependents_Yes                           -0.0472      0.012     -3.947      0.000      -0.071      -0.024\n",
       "MultipleLines_No phone service           -0.1791      0.091     -1.979      0.048      -0.357      -0.002\n",
       "MultipleLines_Yes                         0.1179      0.025      4.747      0.000       0.069       0.167\n",
       "InternetService_Fiber optic               0.4942      0.111      4.434      0.000       0.276       0.713\n",
       "InternetService_No                       -0.0773      0.016     -4.808      0.000      -0.109      -0.046\n",
       "OnlineSecurity_No internet service       -0.0773      0.016     -4.808      0.000      -0.109      -0.046\n",
       "OnlineSecurity_Yes                       -0.0207      0.025     -0.820      0.412      -0.070       0.029\n",
       "OnlineBackup_No internet service         -0.0773      0.016     -4.808      0.000      -0.109      -0.046\n",
       "OnlineBackup_Yes                          0.0509      0.025      2.059      0.039       0.002       0.099\n",
       "DeviceProtection_No internet service     -0.0773      0.016     -4.808      0.000      -0.109      -0.046\n",
       "DeviceProtection_Yes                      0.0420      0.025      1.693      0.091      -0.007       0.091\n",
       "TechSupport_No internet service          -0.0773      0.016     -4.808      0.000      -0.109      -0.046\n",
       "TechSupport_Yes                          -0.0283      0.025     -1.116      0.264      -0.078       0.021\n",
       "StreamingTV_No internet service          -0.0773      0.016     -4.808      0.000      -0.109      -0.046\n",
       "StreamingTV_Yes                           0.1568      0.046      3.430      0.001       0.067       0.246\n",
       "StreamingMovies_No internet service      -0.0773      0.016     -4.808      0.000      -0.109      -0.046\n",
       "StreamingMovies_Yes                       0.1621      0.046      3.551      0.000       0.073       0.252\n",
       "PaperlessBilling_Yes                      0.0615      0.010      6.005      0.000       0.041       0.082\n",
       "PaymentMethod_Credit card (automatic)    -0.0217      0.015     -1.486      0.137      -0.050       0.007\n",
       "PaymentMethod_Electronic check            0.0832      0.013      6.264      0.000       0.057       0.109\n",
       "PaymentMethod_Mailed check               -0.0009      0.015     -0.056      0.955      -0.031       0.029\n",
       "==============================================================================\n",
       "Omnibus:                      467.235   Durbin-Watson:                   1.995\n",
       "Prob(Omnibus):                  0.000   Jarque-Bera (JB):              196.726\n",
       "Skew:                          -0.138   Prob(JB):                     1.91e-43\n",
       "Kurtosis:                       2.297   Cond. No.                     1.22e+16\n",
       "==============================================================================\n",
       "\n",
       "Notes:\n",
       "[1] Standard Errors assume that the covariance matrix of the errors is correctly specified.\n",
       "[2] The smallest eigenvalue is 2.2e-28. This might indicate that there are\n",
       "strong multicollinearity problems or that the design matrix is singular.\n",
       "\"\"\""
      ]
     },
     "execution_count": 106,
     "metadata": {},
     "output_type": "execute_result"
    }
   ],
   "source": [
    "X_train = sm.add_constant(X_train)\n",
    "model = sm.OLS(y_train, X_train).fit()\n",
    "model.summary()"
   ]
  },
  {
   "cell_type": "code",
   "execution_count": 149,
   "id": "a2a86516",
   "metadata": {},
   "outputs": [
    {
     "name": "stdout",
     "output_type": "stream",
     "text": [
      "Mean Absolute Error: 0.33\n",
      "Mean Squared Error: 0.16\n",
      "Root Mean Squared Error: 0.4\n"
     ]
    }
   ],
   "source": [
    "from sklearn import metrics\n",
    "print('Mean Absolute Error: ' + str(round(metrics.mean_absolute_error(y_test, y_pred),2)))\n",
    "print('Mean Squared Error: ' + str(round(metrics.mean_squared_error(y_test, y_pred),2))) \n",
    "print('Root Mean Squared Error: ' + str(round(np.sqrt(metrics.mean_squared_error(y_test, y_pred)),2))) "
   ]
  },
  {
   "cell_type": "markdown",
   "id": "8a5e71fa",
   "metadata": {},
   "source": [
    "----use ridge classifier as a base model"
   ]
  },
  {
   "cell_type": "code",
   "execution_count": 109,
   "id": "27abde0b",
   "metadata": {},
   "outputs": [],
   "source": [
    "from sklearn.linear_model import RidgeClassifier\n",
    "from sklearn.metrics import accuracy_score"
   ]
  },
  {
   "cell_type": "code",
   "execution_count": 110,
   "id": "ffa8192e",
   "metadata": {},
   "outputs": [
    {
     "data": {
      "text/plain": [
       "RidgeClassifier()"
      ]
     },
     "execution_count": 110,
     "metadata": {},
     "output_type": "execute_result"
    }
   ],
   "source": [
    "clf_ridge = RidgeClassifier() #create a ridge classifier object\n",
    "clf_ridge.fit(X_train, y_train) #train the model"
   ]
  },
  {
   "cell_type": "markdown",
   "id": "910d1304",
   "metadata": {},
   "source": [
    "Making predictions on training set and evaluating:"
   ]
  },
  {
   "cell_type": "code",
   "execution_count": 166,
   "id": "7bb2199a",
   "metadata": {},
   "outputs": [
    {
     "name": "stdout",
     "output_type": "stream",
     "text": [
      "Accuracy_score for training set: 0.757\n"
     ]
    }
   ],
   "source": [
    "pred = clf_ridge.predict(X_train)\n",
    "\n",
    "print('Accuracy_score for training set: ' + str(round(accuracy_score(y_train, pred),3)))"
   ]
  },
  {
   "cell_type": "markdown",
   "id": "2a33f0e6",
   "metadata": {},
   "source": [
    "Making predictions on Testing set and evaluating:"
   ]
  },
  {
   "cell_type": "code",
   "execution_count": 162,
   "id": "960bda3e",
   "metadata": {},
   "outputs": [
    {
     "name": "stdout",
     "output_type": "stream",
     "text": [
      "Accuracy_score for testing set: 0.761\n"
     ]
    }
   ],
   "source": [
    "pred_test = clf_ridge.predict(X_test)\n",
    "print('Accuracy_score for testing set: ' + str(round(accuracy_score(y_test, pred_test),3))) "
   ]
  },
  {
   "cell_type": "markdown",
   "id": "69dc3815",
   "metadata": {},
   "source": [
    "Random Forest"
   ]
  },
  {
   "cell_type": "code",
   "execution_count": 113,
   "id": "286464d7",
   "metadata": {},
   "outputs": [],
   "source": [
    "from sklearn.ensemble import RandomForestClassifier"
   ]
  },
  {
   "cell_type": "code",
   "execution_count": 114,
   "id": "dd860e6e",
   "metadata": {},
   "outputs": [
    {
     "data": {
      "text/plain": [
       "RandomForestClassifier(max_depth=8)"
      ]
     },
     "execution_count": 114,
     "metadata": {},
     "output_type": "execute_result"
    }
   ],
   "source": [
    "clf_forest = RandomForestClassifier(n_estimators=100, max_depth=8)\n",
    "clf_forest.fit(X_train, y_train)"
   ]
  },
  {
   "cell_type": "markdown",
   "id": "2cf7eb00",
   "metadata": {},
   "source": [
    "Making predictions on training set and evaluating:"
   ]
  },
  {
   "cell_type": "code",
   "execution_count": 167,
   "id": "19214a2a",
   "metadata": {},
   "outputs": [
    {
     "name": "stdout",
     "output_type": "stream",
     "text": [
      "Accuracy_score using RF for training set: 0.822\n"
     ]
    }
   ],
   "source": [
    "pred = clf_forest.predict(X_train)\n",
    "\n",
    "print('Accuracy_score using RF for training set: ' + str(round(accuracy_score(y_train, pred),3))) "
   ]
  },
  {
   "cell_type": "markdown",
   "id": "2621cb54",
   "metadata": {},
   "source": [
    "Making predictions on test set and evaluating:"
   ]
  },
  {
   "cell_type": "code",
   "execution_count": 168,
   "id": "659082a2",
   "metadata": {},
   "outputs": [
    {
     "name": "stdout",
     "output_type": "stream",
     "text": [
      "Accuracy_score using RF for testing set: 0.804\n"
     ]
    }
   ],
   "source": [
    "pred_test = clf_forest.predict(X_test)\n",
    "print('Accuracy_score using RF for testing set: ' + str(round(accuracy_score(y_test, pred_test),3))) "
   ]
  },
  {
   "cell_type": "markdown",
   "id": "0421b287",
   "metadata": {},
   "source": [
    "### ----- Parameter tuning-----"
   ]
  },
  {
   "cell_type": "code",
   "execution_count": 118,
   "id": "efacc4f9",
   "metadata": {},
   "outputs": [],
   "source": [
    "from sklearn.model_selection import GridSearchCV"
   ]
  },
  {
   "cell_type": "markdown",
   "id": "75c84a10",
   "metadata": {},
   "source": [
    "Creating a GridSearchCV object:"
   ]
  },
  {
   "cell_type": "code",
   "execution_count": 121,
   "id": "30552f85",
   "metadata": {},
   "outputs": [],
   "source": [
    "parameters = {'n_estimators':[150,200,250,300], 'max_depth':[15,20,25]}\n",
    "forest = RandomForestClassifier()\n",
    "clf = GridSearchCV(estimator=forest, param_grid=parameters, n_jobs=-1, cv=5)"
   ]
  },
  {
   "cell_type": "code",
   "execution_count": 122,
   "id": "3d085381",
   "metadata": {},
   "outputs": [
    {
     "data": {
      "text/plain": [
       "GridSearchCV(cv=5, estimator=RandomForestClassifier(), n_jobs=-1,\n",
       "             param_grid={'max_depth': [15, 20, 25],\n",
       "                         'n_estimators': [150, 200, 250, 300]})"
      ]
     },
     "execution_count": 122,
     "metadata": {},
     "output_type": "execute_result"
    }
   ],
   "source": [
    "clf.fit(X, y)"
   ]
  },
  {
   "cell_type": "code",
   "execution_count": 123,
   "id": "073eb9c4",
   "metadata": {},
   "outputs": [
    {
     "data": {
      "text/plain": [
       "{'max_depth': 20, 'n_estimators': 150}"
      ]
     },
     "execution_count": 123,
     "metadata": {},
     "output_type": "execute_result"
    }
   ],
   "source": [
    "clf.best_params_\n",
    "{'max_depth': 20, 'n_estimators': 150}"
   ]
  },
  {
   "cell_type": "code",
   "execution_count": 124,
   "id": "706bf344",
   "metadata": {},
   "outputs": [
    {
     "data": {
      "text/plain": [
       "0.9006581162455666"
      ]
     },
     "execution_count": 124,
     "metadata": {},
     "output_type": "execute_result"
    }
   ],
   "source": [
    "clf.best_score_"
   ]
  },
  {
   "cell_type": "code",
   "execution_count": 125,
   "id": "0041158f",
   "metadata": {},
   "outputs": [
    {
     "data": {
      "text/plain": [
       "RandomForestClassifier()"
      ]
     },
     "execution_count": 125,
     "metadata": {},
     "output_type": "execute_result"
    }
   ],
   "source": [
    "#importing classification report and confusion matrix from sklearn\n",
    "\n",
    "from sklearn.metrics import classification_report, confusion_matrix\n",
    "from sklearn.ensemble import RandomForestClassifier\n",
    "rfc = RandomForestClassifier()\n",
    "rfc.fit(X_train, y_train)"
   ]
  },
  {
   "cell_type": "code",
   "execution_count": 126,
   "id": "5facce38",
   "metadata": {},
   "outputs": [
    {
     "name": "stdout",
     "output_type": "stream",
     "text": [
      "Classification report _\n",
      "               precision    recall  f1-score   support\n",
      "\n",
      "           0       0.97      0.85      0.90      1044\n",
      "           1       0.86      0.97      0.91      1026\n",
      "\n",
      "    accuracy                           0.91      2070\n",
      "   macro avg       0.91      0.91      0.91      2070\n",
      "weighted avg       0.91      0.91      0.91      2070\n",
      "\n"
     ]
    }
   ],
   "source": [
    "y_pred = rfc.predict(X_test)\n",
    "print(\"Classification report _\\n\", classification_report(y_test,y_pred))"
   ]
  },
  {
   "cell_type": "code",
   "execution_count": 130,
   "id": "d75ccbdf",
   "metadata": {},
   "outputs": [
    {
     "data": {
      "text/plain": [
       "Text(0.5, 1.0, 'Accuracy Score: 0.9077294685990338')"
      ]
     },
     "execution_count": 130,
     "metadata": {},
     "output_type": "execute_result"
    },
    {
     "data": {
      "image/png": "[encoded data removed]",
      "text/plain": [
       "<Figure size 360x360 with 2 Axes>"
      ]
     },
     "metadata": {},
     "output_type": "display_data"
    }
   ],
   "source": [
    "cm = confusion_matrix(y_test, y_pred)\n",
    "plt.figure(figsize=(5,5))\n",
    "sns.heatmap(data=cm,linewidths=.5, annot=True,square = True,  cmap = 'Blues')\n",
    "plt.ylabel('Actual label')\n",
    "plt.xlabel('Predicted label')\n",
    "all_sample_title = 'Accuracy Score: {0}'.format(rfc.score(X_test, y_test))\n",
    "plt.title(all_sample_title, size = 15)"
   ]
  },
  {
   "cell_type": "code",
   "execution_count": 135,
   "id": "263bc68e",
   "metadata": {},
   "outputs": [
    {
     "data": {
      "text/plain": [
       "<matplotlib.legend.Legend at 0x2b23fa9d490>"
      ]
     },
     "execution_count": 135,
     "metadata": {},
     "output_type": "execute_result"
    },
    {
     "data": {
      "image/png": "[encoded data removed]",
      "text/plain": [
       "<Figure size 432x288 with 1 Axes>"
      ]
     },
     "metadata": {},
     "output_type": "display_data"
    }
   ],
   "source": [
    "from sklearn.metrics import roc_curve, roc_auc_score\n",
    "y_pred_proba = rfc.predict_proba(X_test)[:][:,1]\n",
    "df_actual_predicted = pd.concat([pd.DataFrame(np.array(y_test), columns=['y_actual']), pd.DataFrame(y_pred_proba, columns=['y_pred_proba'])], axis=1)\n",
    "df_actual_predicted.index = y_test.index\n",
    "fpr, tpr, tr = roc_curve(df_actual_predicted['y_actual'], df_actual_predicted['y_pred_proba'])\n",
    "auc = roc_auc_score(df_actual_predicted['y_actual'], df_actual_predicted['y_pred_proba'])\n",
    "plt.plot(fpr, tpr, label='AUC = %0.4f' %auc)\n",
    "plt.plot(fpr, fpr, linestyle = '--', color='k')\n",
    "plt.xlabel('False Positive Rate')\n",
    "plt.ylabel('True Positive Rate')\n",
    "plt.title('ROC Curve', size = 15)\n",
    "plt.legend()"
   ]
  },
  {
   "cell_type": "code",
   "execution_count": null,
   "id": "2da9a941",
   "metadata": {},
   "outputs": [],
   "source": []
  }
 ],
 "metadata": {
  "kernelspec": {
   "display_name": "Python 3",
   "language": "python",
   "name": "python3"
  },
  "language_info": {
   "codemirror_mode": {
    "name": "ipython",
    "version": 3
   },
   "file_extension": ".py",
   "mimetype": "text/x-python",
   "name": "python",
   "nbconvert_exporter": "python",
   "pygments_lexer": "ipython3",
   "version": "3.8.8"
  }
 },
 "nbformat": 4,
 "nbformat_minor": 5
}
